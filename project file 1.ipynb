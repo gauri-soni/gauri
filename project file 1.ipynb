{
 "cells": [
  {
   "cell_type": "code",
   "execution_count": 1,
   "metadata": {},
   "outputs": [],
   "source": [
    "import pandas as pd\n",
    "import numpy as np\n",
    "import matplotlib\n",
    "import matplotlib.pyplot as plt\n",
    "import seaborn as sns\n",
    "import statsmodels.api as sm\n",
    "%matplotlib inline\n",
    "import warnings\n",
    "warnings.filterwarnings('ignore')\n",
    "from sklearn.model_selection import train_test_split\n",
    "from sklearn.linear_model import LinearRegression\n",
    "from sklearn.feature_selection import RFE\n",
    "from sklearn.linear_model import RidgeCV, LassoCV, Ridge, Lasso"
   ]
  },
  {
   "cell_type": "code",
   "execution_count": 55,
   "metadata": {},
   "outputs": [
    {
     "data": {
      "text/html": [
       "<div>\n",
       "<style scoped>\n",
       "    .dataframe tbody tr th:only-of-type {\n",
       "        vertical-align: middle;\n",
       "    }\n",
       "\n",
       "    .dataframe tbody tr th {\n",
       "        vertical-align: top;\n",
       "    }\n",
       "\n",
       "    .dataframe thead th {\n",
       "        text-align: right;\n",
       "    }\n",
       "</style>\n",
       "<table border=\"1\" class=\"dataframe\">\n",
       "  <thead>\n",
       "    <tr style=\"text-align: right;\">\n",
       "      <th></th>\n",
       "      <th>AGE</th>\n",
       "      <th>Gender</th>\n",
       "      <th>Domicile</th>\n",
       "      <th>Qualification</th>\n",
       "      <th>Religion</th>\n",
       "      <th>Occupation</th>\n",
       "      <th>Marital status</th>\n",
       "      <th>Socio economic status</th>\n",
       "      <th>Duration of illness</th>\n",
       "      <th>BFNE Score</th>\n",
       "      <th>PANSS score</th>\n",
       "      <th>P score</th>\n",
       "      <th>N score</th>\n",
       "      <th>G score</th>\n",
       "      <th>C score</th>\n",
       "      <th>CGI Score</th>\n",
       "    </tr>\n",
       "  </thead>\n",
       "  <tbody>\n",
       "    <tr>\n",
       "      <th>0</th>\n",
       "      <td>40</td>\n",
       "      <td>F</td>\n",
       "      <td>Urban</td>\n",
       "      <td>Secondary</td>\n",
       "      <td>Muslim</td>\n",
       "      <td>House wife</td>\n",
       "      <td>Married</td>\n",
       "      <td>Low</td>\n",
       "      <td>15.0</td>\n",
       "      <td>27</td>\n",
       "      <td>45</td>\n",
       "      <td>7</td>\n",
       "      <td>11</td>\n",
       "      <td>27</td>\n",
       "      <td>-4</td>\n",
       "      <td>3</td>\n",
       "    </tr>\n",
       "    <tr>\n",
       "      <th>1</th>\n",
       "      <td>32</td>\n",
       "      <td>F</td>\n",
       "      <td>Urban</td>\n",
       "      <td>Graduated</td>\n",
       "      <td>Christian</td>\n",
       "      <td>Unemployed</td>\n",
       "      <td>Unmarried</td>\n",
       "      <td>Middle</td>\n",
       "      <td>4.0</td>\n",
       "      <td>30</td>\n",
       "      <td>71</td>\n",
       "      <td>27</td>\n",
       "      <td>14</td>\n",
       "      <td>30</td>\n",
       "      <td>13</td>\n",
       "      <td>5</td>\n",
       "    </tr>\n",
       "    <tr>\n",
       "      <th>2</th>\n",
       "      <td>35</td>\n",
       "      <td>F</td>\n",
       "      <td>Urban</td>\n",
       "      <td>Secondary</td>\n",
       "      <td>Hindu</td>\n",
       "      <td>House wife</td>\n",
       "      <td>Married</td>\n",
       "      <td>Middle</td>\n",
       "      <td>3.0</td>\n",
       "      <td>20</td>\n",
       "      <td>71</td>\n",
       "      <td>23</td>\n",
       "      <td>14</td>\n",
       "      <td>34</td>\n",
       "      <td>9</td>\n",
       "      <td>5</td>\n",
       "    </tr>\n",
       "    <tr>\n",
       "      <th>3</th>\n",
       "      <td>26</td>\n",
       "      <td>M</td>\n",
       "      <td>Rural</td>\n",
       "      <td>Inter</td>\n",
       "      <td>Hindu</td>\n",
       "      <td>Farmer</td>\n",
       "      <td>Married</td>\n",
       "      <td>Low</td>\n",
       "      <td>1.0</td>\n",
       "      <td>12</td>\n",
       "      <td>48</td>\n",
       "      <td>9</td>\n",
       "      <td>15</td>\n",
       "      <td>24</td>\n",
       "      <td>-6</td>\n",
       "      <td>4</td>\n",
       "    </tr>\n",
       "    <tr>\n",
       "      <th>4</th>\n",
       "      <td>31</td>\n",
       "      <td>M</td>\n",
       "      <td>Rural</td>\n",
       "      <td>Inter</td>\n",
       "      <td>Hindu</td>\n",
       "      <td>Unemployed</td>\n",
       "      <td>Married</td>\n",
       "      <td>Low</td>\n",
       "      <td>2.0</td>\n",
       "      <td>12</td>\n",
       "      <td>59</td>\n",
       "      <td>17</td>\n",
       "      <td>11</td>\n",
       "      <td>31</td>\n",
       "      <td>6</td>\n",
       "      <td>4</td>\n",
       "    </tr>\n",
       "  </tbody>\n",
       "</table>\n",
       "</div>"
      ],
      "text/plain": [
       "   AGE Gender Domicile Qualification   Religion  Occupation Marital status  \\\n",
       "0   40      F    Urban     Secondary     Muslim  House wife        Married   \n",
       "1   32      F    Urban     Graduated  Christian  Unemployed      Unmarried   \n",
       "2   35      F    Urban     Secondary      Hindu  House wife        Married   \n",
       "3   26      M    Rural         Inter      Hindu      Farmer        Married   \n",
       "4   31      M    Rural         Inter      Hindu  Unemployed        Married   \n",
       "\n",
       "  Socio economic status  Duration of illness  BFNE Score  PANSS score  \\\n",
       "0                   Low                 15.0          27           45   \n",
       "1                Middle                  4.0          30           71   \n",
       "2                Middle                  3.0          20           71   \n",
       "3                   Low                  1.0          12           48   \n",
       "4                   Low                  2.0          12           59   \n",
       "\n",
       "   P score  N score  G score  C score  CGI Score  \n",
       "0        7       11       27       -4          3  \n",
       "1       27       14       30       13          5  \n",
       "2       23       14       34        9          5  \n",
       "3        9       15       24       -6          4  \n",
       "4       17       11       31        6          4  "
      ]
     },
     "execution_count": 55,
     "metadata": {},
     "output_type": "execute_result"
    }
   ],
   "source": [
    "data=pd.read_csv('coorg.sav.csv')\n",
    "data.head()\n",
    "data.drop('Name',axis=1).head()\n"
   ]
  },
  {
   "cell_type": "code",
   "execution_count": 3,
   "metadata": {},
   "outputs": [
    {
     "data": {
      "text/plain": [
       "F    26\n",
       "M    24\n",
       "Name: Gender, dtype: int64"
      ]
     },
     "execution_count": 3,
     "metadata": {},
     "output_type": "execute_result"
    }
   ],
   "source": [
    "(data['Gender']).value_counts()"
   ]
  },
  {
   "cell_type": "code",
   "execution_count": 4,
   "metadata": {},
   "outputs": [],
   "source": [
    "def gender(x):\n",
    "    if x=='M':\n",
    "        return 1\n",
    "    else:\n",
    "        return 2\n",
    "data['Gender_cat']=data['Gender'].apply(gender)"
   ]
  },
  {
   "cell_type": "code",
   "execution_count": 5,
   "metadata": {},
   "outputs": [
    {
     "data": {
      "text/plain": [
       "Low       43\n",
       "Middle     7\n",
       "Name: Socio economic status, dtype: int64"
      ]
     },
     "execution_count": 5,
     "metadata": {},
     "output_type": "execute_result"
    }
   ],
   "source": [
    "(data['Socio economic status']).value_counts()"
   ]
  },
  {
   "cell_type": "code",
   "execution_count": 6,
   "metadata": {},
   "outputs": [],
   "source": [
    "def ses(x):\n",
    "    if x=='Low':\n",
    "        return 1\n",
    "    else:\n",
    "        return 2\n",
    "data['ses_cat']=data['Socio economic status'].apply(ses)"
   ]
  },
  {
   "cell_type": "code",
   "execution_count": 7,
   "metadata": {},
   "outputs": [
    {
     "data": {
      "text/plain": [
       "Rural    36\n",
       "Urban    14\n",
       "Name: Domicile, dtype: int64"
      ]
     },
     "execution_count": 7,
     "metadata": {},
     "output_type": "execute_result"
    }
   ],
   "source": [
    "(data['Domicile']).value_counts()"
   ]
  },
  {
   "cell_type": "code",
   "execution_count": 8,
   "metadata": {},
   "outputs": [
    {
     "data": {
      "text/plain": [
       "Married      30\n",
       "Unmarried    16\n",
       "Widow         2\n",
       "Divorced      1\n",
       "Separated     1\n",
       "Name: Marital status, dtype: int64"
      ]
     },
     "execution_count": 8,
     "metadata": {},
     "output_type": "execute_result"
    }
   ],
   "source": [
    "(data['Marital status']).value_counts()"
   ]
  },
  {
   "cell_type": "code",
   "execution_count": 9,
   "metadata": {},
   "outputs": [],
   "source": [
    "def year(x):\n",
    "    if x<1:\n",
    "        return \"less than 1 year\"\n",
    "    elif 1<=x<5:\n",
    "        return \"01 to 5\"\n",
    "    elif 5<=x<10:\n",
    "        return \"05 to 10\"\n",
    "    elif 10<=x<15:\n",
    "        return \"10 to 15\"\n",
    "    elif 15<=x<20:\n",
    "        return \"15 to 20\"\n",
    "    elif 20<=x<25:\n",
    "        return \"20 to 25\"\n",
    "    else:\n",
    "        return \"25 and above\"\n",
    "\n",
    "data['duration of illness in years']=data['Duration of illness'].apply(year)"
   ]
  },
  {
   "cell_type": "code",
   "execution_count": 10,
   "metadata": {},
   "outputs": [
    {
     "data": {
      "text/plain": [
       "01 to 5             20\n",
       "10 to 15             7\n",
       "05 to 10             7\n",
       "15 to 20             6\n",
       "25 and above         6\n",
       "less than 1 year     3\n",
       "20 to 25             1\n",
       "Name: duration of illness in years, dtype: int64"
      ]
     },
     "execution_count": 10,
     "metadata": {},
     "output_type": "execute_result"
    }
   ],
   "source": [
    "(data['duration of illness in years']).value_counts()"
   ]
  },
  {
   "cell_type": "code",
   "execution_count": 11,
   "metadata": {},
   "outputs": [
    {
     "data": {
      "text/plain": [
       "19.18"
      ]
     },
     "execution_count": 11,
     "metadata": {},
     "output_type": "execute_result"
    }
   ],
   "source": [
    "data['BFNE Score'].mean()"
   ]
  },
  {
   "cell_type": "code",
   "execution_count": 12,
   "metadata": {},
   "outputs": [
    {
     "data": {
      "text/plain": [
       "7.438701883681435"
      ]
     },
     "execution_count": 12,
     "metadata": {},
     "output_type": "execute_result"
    }
   ],
   "source": [
    "data['BFNE Score'].std()"
   ]
  },
  {
   "cell_type": "code",
   "execution_count": 54,
   "metadata": {},
   "outputs": [],
   "source": [
    "d1=data[data['BFNE Score']>=25]"
   ]
  },
  {
   "cell_type": "code",
   "execution_count": 14,
   "metadata": {},
   "outputs": [
    {
     "data": {
      "text/plain": [
       "F    6\n",
       "M    5\n",
       "Name: Gender, dtype: int64"
      ]
     },
     "execution_count": 14,
     "metadata": {},
     "output_type": "execute_result"
    }
   ],
   "source": [
    "d1['Gender'].value_counts()"
   ]
  },
  {
   "cell_type": "code",
   "execution_count": 15,
   "metadata": {},
   "outputs": [
    {
     "data": {
      "text/plain": [
       "(11, 20)"
      ]
     },
     "execution_count": 15,
     "metadata": {},
     "output_type": "execute_result"
    }
   ],
   "source": [
    "d1.shape"
   ]
  },
  {
   "cell_type": "code",
   "execution_count": 16,
   "metadata": {},
   "outputs": [],
   "source": [
    "d2=data[data['BFNE Score']<25]"
   ]
  },
  {
   "cell_type": "code",
   "execution_count": 17,
   "metadata": {},
   "outputs": [
    {
     "data": {
      "text/plain": [
       "AGE                    36.794872\n",
       "Duration of illness     9.782051\n",
       "BFNE Score             15.923077\n",
       "PANSS score            68.230769\n",
       "P score                17.948718\n",
       "N score                17.692308\n",
       "G score                32.615385\n",
       "C score                 0.256410\n",
       "CGI Score               4.410256\n",
       "Gender_cat              1.512821\n",
       "ses_cat                 1.076923\n",
       "dtype: float64"
      ]
     },
     "execution_count": 17,
     "metadata": {},
     "output_type": "execute_result"
    }
   ],
   "source": [
    "data[data['BFNE Score']<25].mean()"
   ]
  },
  {
   "cell_type": "code",
   "execution_count": 18,
   "metadata": {},
   "outputs": [
    {
     "data": {
      "text/plain": [
       "Hindu        43\n",
       "Muslim        5\n",
       "Christian     2\n",
       "Name: Religion, dtype: int64"
      ]
     },
     "execution_count": 18,
     "metadata": {},
     "output_type": "execute_result"
    }
   ],
   "source": [
    "(data['Religion']).value_counts()"
   ]
  },
  {
   "cell_type": "code",
   "execution_count": 19,
   "metadata": {},
   "outputs": [
    {
     "data": {
      "text/plain": [
       "Secondary     19\n",
       "Illiterate    17\n",
       "Graduated      8\n",
       "Inter          4\n",
       "Primary        2\n",
       "Name: Qualification, dtype: int64"
      ]
     },
     "execution_count": 19,
     "metadata": {},
     "output_type": "execute_result"
    }
   ],
   "source": [
    "(data['Qualification']).value_counts()"
   ]
  },
  {
   "cell_type": "code",
   "execution_count": 20,
   "metadata": {},
   "outputs": [
    {
     "data": {
      "text/plain": [
       "False    39\n",
       "True     11\n",
       "Name: BFNE Score, dtype: int64"
      ]
     },
     "execution_count": 20,
     "metadata": {},
     "output_type": "execute_result"
    }
   ],
   "source": [
    "(data['BFNE Score']>=25).value_counts()"
   ]
  },
  {
   "cell_type": "code",
   "execution_count": 21,
   "metadata": {},
   "outputs": [
    {
     "data": {
      "text/html": [
       "<div>\n",
       "<style scoped>\n",
       "    .dataframe tbody tr th:only-of-type {\n",
       "        vertical-align: middle;\n",
       "    }\n",
       "\n",
       "    .dataframe tbody tr th {\n",
       "        vertical-align: top;\n",
       "    }\n",
       "\n",
       "    .dataframe thead th {\n",
       "        text-align: right;\n",
       "    }\n",
       "</style>\n",
       "<table border=\"1\" class=\"dataframe\">\n",
       "  <thead>\n",
       "    <tr style=\"text-align: right;\">\n",
       "      <th></th>\n",
       "      <th>Name</th>\n",
       "      <th>AGE</th>\n",
       "      <th>Gender</th>\n",
       "      <th>Domicile</th>\n",
       "      <th>Qualification</th>\n",
       "      <th>Religion</th>\n",
       "      <th>Occupation</th>\n",
       "      <th>Marital status</th>\n",
       "      <th>Socio economic status</th>\n",
       "      <th>Duration of illness</th>\n",
       "      <th>...</th>\n",
       "      <th>PANSS score</th>\n",
       "      <th>P score</th>\n",
       "      <th>N score</th>\n",
       "      <th>G score</th>\n",
       "      <th>C score</th>\n",
       "      <th>CGI Score</th>\n",
       "      <th>Gender_cat</th>\n",
       "      <th>ses_cat</th>\n",
       "      <th>duration of illness in years</th>\n",
       "      <th>BFNE Score_cat</th>\n",
       "    </tr>\n",
       "  </thead>\n",
       "  <tbody>\n",
       "    <tr>\n",
       "      <th>0</th>\n",
       "      <td>Asma Begum</td>\n",
       "      <td>40</td>\n",
       "      <td>F</td>\n",
       "      <td>Urban</td>\n",
       "      <td>Secondary</td>\n",
       "      <td>Muslim</td>\n",
       "      <td>House wife</td>\n",
       "      <td>Married</td>\n",
       "      <td>Low</td>\n",
       "      <td>15.0</td>\n",
       "      <td>...</td>\n",
       "      <td>45</td>\n",
       "      <td>7</td>\n",
       "      <td>11</td>\n",
       "      <td>27</td>\n",
       "      <td>-4</td>\n",
       "      <td>3</td>\n",
       "      <td>2</td>\n",
       "      <td>1</td>\n",
       "      <td>15 to 20</td>\n",
       "      <td>more than 25</td>\n",
       "    </tr>\n",
       "    <tr>\n",
       "      <th>1</th>\n",
       "      <td>Prasanna kumari</td>\n",
       "      <td>32</td>\n",
       "      <td>F</td>\n",
       "      <td>Urban</td>\n",
       "      <td>Graduated</td>\n",
       "      <td>Christian</td>\n",
       "      <td>Unemployed</td>\n",
       "      <td>Unmarried</td>\n",
       "      <td>Middle</td>\n",
       "      <td>4.0</td>\n",
       "      <td>...</td>\n",
       "      <td>71</td>\n",
       "      <td>27</td>\n",
       "      <td>14</td>\n",
       "      <td>30</td>\n",
       "      <td>13</td>\n",
       "      <td>5</td>\n",
       "      <td>2</td>\n",
       "      <td>2</td>\n",
       "      <td>01 to 5</td>\n",
       "      <td>more than 25</td>\n",
       "    </tr>\n",
       "    <tr>\n",
       "      <th>2</th>\n",
       "      <td>Rajeswari</td>\n",
       "      <td>35</td>\n",
       "      <td>F</td>\n",
       "      <td>Urban</td>\n",
       "      <td>Secondary</td>\n",
       "      <td>Hindu</td>\n",
       "      <td>House wife</td>\n",
       "      <td>Married</td>\n",
       "      <td>Middle</td>\n",
       "      <td>3.0</td>\n",
       "      <td>...</td>\n",
       "      <td>71</td>\n",
       "      <td>23</td>\n",
       "      <td>14</td>\n",
       "      <td>34</td>\n",
       "      <td>9</td>\n",
       "      <td>5</td>\n",
       "      <td>2</td>\n",
       "      <td>2</td>\n",
       "      <td>01 to 5</td>\n",
       "      <td>less than 25</td>\n",
       "    </tr>\n",
       "    <tr>\n",
       "      <th>3</th>\n",
       "      <td>Y. Srikanth</td>\n",
       "      <td>26</td>\n",
       "      <td>M</td>\n",
       "      <td>Rural</td>\n",
       "      <td>Inter</td>\n",
       "      <td>Hindu</td>\n",
       "      <td>Farmer</td>\n",
       "      <td>Married</td>\n",
       "      <td>Low</td>\n",
       "      <td>1.0</td>\n",
       "      <td>...</td>\n",
       "      <td>48</td>\n",
       "      <td>9</td>\n",
       "      <td>15</td>\n",
       "      <td>24</td>\n",
       "      <td>-6</td>\n",
       "      <td>4</td>\n",
       "      <td>1</td>\n",
       "      <td>1</td>\n",
       "      <td>01 to 5</td>\n",
       "      <td>less than 25</td>\n",
       "    </tr>\n",
       "    <tr>\n",
       "      <th>4</th>\n",
       "      <td>Saketh</td>\n",
       "      <td>31</td>\n",
       "      <td>M</td>\n",
       "      <td>Rural</td>\n",
       "      <td>Inter</td>\n",
       "      <td>Hindu</td>\n",
       "      <td>Unemployed</td>\n",
       "      <td>Married</td>\n",
       "      <td>Low</td>\n",
       "      <td>2.0</td>\n",
       "      <td>...</td>\n",
       "      <td>59</td>\n",
       "      <td>17</td>\n",
       "      <td>11</td>\n",
       "      <td>31</td>\n",
       "      <td>6</td>\n",
       "      <td>4</td>\n",
       "      <td>1</td>\n",
       "      <td>1</td>\n",
       "      <td>01 to 5</td>\n",
       "      <td>less than 25</td>\n",
       "    </tr>\n",
       "  </tbody>\n",
       "</table>\n",
       "<p>5 rows × 21 columns</p>\n",
       "</div>"
      ],
      "text/plain": [
       "              Name  AGE Gender Domicile Qualification   Religion  Occupation  \\\n",
       "0       Asma Begum   40      F    Urban     Secondary     Muslim  House wife   \n",
       "1  Prasanna kumari   32      F    Urban     Graduated  Christian  Unemployed   \n",
       "2        Rajeswari   35      F    Urban     Secondary      Hindu  House wife   \n",
       "3      Y. Srikanth   26      M    Rural         Inter      Hindu      Farmer   \n",
       "4           Saketh   31      M    Rural         Inter      Hindu  Unemployed   \n",
       "\n",
       "  Marital status Socio economic status  Duration of illness  ...  PANSS score  \\\n",
       "0        Married                   Low                 15.0  ...           45   \n",
       "1      Unmarried                Middle                  4.0  ...           71   \n",
       "2        Married                Middle                  3.0  ...           71   \n",
       "3        Married                   Low                  1.0  ...           48   \n",
       "4        Married                   Low                  2.0  ...           59   \n",
       "\n",
       "   P score  N score  G score  C score  CGI Score  Gender_cat  ses_cat  \\\n",
       "0        7       11       27       -4          3           2        1   \n",
       "1       27       14       30       13          5           2        2   \n",
       "2       23       14       34        9          5           2        2   \n",
       "3        9       15       24       -6          4           1        1   \n",
       "4       17       11       31        6          4           1        1   \n",
       "\n",
       "   duration of illness in years BFNE Score_cat  \n",
       "0                      15 to 20   more than 25  \n",
       "1                       01 to 5   more than 25  \n",
       "2                       01 to 5   less than 25  \n",
       "3                       01 to 5   less than 25  \n",
       "4                       01 to 5   less than 25  \n",
       "\n",
       "[5 rows x 21 columns]"
      ]
     },
     "execution_count": 21,
     "metadata": {},
     "output_type": "execute_result"
    }
   ],
   "source": [
    "def bfne(x):\n",
    "    if 0<=x<25:\n",
    "        return \"less than 25\"\n",
    "    else:\n",
    "        return \"more than 25\"\n",
    "    \n",
    "data['BFNE Score_cat']=data['BFNE Score'].apply(bfne)\n",
    "data.head()        "
   ]
  },
  {
   "cell_type": "code",
   "execution_count": 22,
   "metadata": {},
   "outputs": [
    {
     "data": {
      "image/png": "[encoded data removed]",
      "text/plain": [
       "<Figure size 432x288 with 1 Axes>"
      ]
     },
     "metadata": {
      "needs_background": "light"
     },
     "output_type": "display_data"
    }
   ],
   "source": [
    "pd.crosstab(data['Gender'],data['BFNE Score_cat'],normalize=0).plot.bar(stacked=True,legend=True)\n",
    "plt.show()\n"
   ]
  },
  {
   "cell_type": "code",
   "execution_count": 23,
   "metadata": {},
   "outputs": [
    {
     "data": {
      "image/png": "[encoded data removed]",
      "text/plain": [
       "<Figure size 432x288 with 1 Axes>"
      ]
     },
     "metadata": {
      "needs_background": "light"
     },
     "output_type": "display_data"
    }
   ],
   "source": [
    "pd.crosstab(data['Marital status'],data['BFNE Score_cat'],normalize=0).plot.bar(stacked=True,legend=True)\n",
    "plt.show()"
   ]
  },
  {
   "cell_type": "code",
   "execution_count": 24,
   "metadata": {},
   "outputs": [
    {
     "data": {
      "image/png": "[encoded data removed]",
      "text/plain": [
       "<Figure size 432x288 with 1 Axes>"
      ]
     },
     "metadata": {
      "needs_background": "light"
     },
     "output_type": "display_data"
    }
   ],
   "source": [
    "pd.crosstab(data['Socio economic status'],data['BFNE Score_cat'],normalize=0).plot.bar(stacked=True,legend=True)\n",
    "plt.show()"
   ]
  },
  {
   "cell_type": "code",
   "execution_count": 25,
   "metadata": {},
   "outputs": [
    {
     "data": {
      "image/png": "[encoded data removed]",
      "text/plain": [
       "<Figure size 432x288 with 1 Axes>"
      ]
     },
     "metadata": {
      "needs_background": "light"
     },
     "output_type": "display_data"
    }
   ],
   "source": [
    "pd.crosstab(data['Qualification'],data['BFNE Score_cat'],normalize=0).plot.bar(stacked=True,legend=True)\n",
    "plt.show()"
   ]
  },
  {
   "cell_type": "code",
   "execution_count": 26,
   "metadata": {},
   "outputs": [
    {
     "data": {
      "image/png": "[encoded data removed]",
      "text/plain": [
       "<Figure size 432x288 with 1 Axes>"
      ]
     },
     "metadata": {
      "needs_background": "light"
     },
     "output_type": "display_data"
    }
   ],
   "source": [
    "pd.crosstab(data['Domicile'],data['BFNE Score_cat'],normalize=0).plot.bar(stacked=True,legend=True)\n",
    "plt.show()"
   ]
  },
  {
   "cell_type": "code",
   "execution_count": 27,
   "metadata": {},
   "outputs": [
    {
     "data": {
      "text/html": [
       "<div>\n",
       "<style scoped>\n",
       "    .dataframe tbody tr th:only-of-type {\n",
       "        vertical-align: middle;\n",
       "    }\n",
       "\n",
       "    .dataframe tbody tr th {\n",
       "        vertical-align: top;\n",
       "    }\n",
       "\n",
       "    .dataframe thead th {\n",
       "        text-align: right;\n",
       "    }\n",
       "</style>\n",
       "<table border=\"1\" class=\"dataframe\">\n",
       "  <thead>\n",
       "    <tr style=\"text-align: right;\">\n",
       "      <th></th>\n",
       "      <th>Name</th>\n",
       "      <th>AGE</th>\n",
       "      <th>Gender</th>\n",
       "      <th>Domicile</th>\n",
       "      <th>Qualification</th>\n",
       "      <th>Religion</th>\n",
       "      <th>Occupation</th>\n",
       "      <th>Marital status</th>\n",
       "      <th>Socio economic status</th>\n",
       "      <th>Duration of illness</th>\n",
       "      <th>...</th>\n",
       "      <th>P score</th>\n",
       "      <th>N score</th>\n",
       "      <th>G score</th>\n",
       "      <th>C score</th>\n",
       "      <th>CGI Score</th>\n",
       "      <th>Gender_cat</th>\n",
       "      <th>ses_cat</th>\n",
       "      <th>duration of illness in years</th>\n",
       "      <th>BFNE Score_cat</th>\n",
       "      <th>Age_cat</th>\n",
       "    </tr>\n",
       "  </thead>\n",
       "  <tbody>\n",
       "    <tr>\n",
       "      <th>0</th>\n",
       "      <td>Asma Begum</td>\n",
       "      <td>40</td>\n",
       "      <td>F</td>\n",
       "      <td>Urban</td>\n",
       "      <td>Secondary</td>\n",
       "      <td>Muslim</td>\n",
       "      <td>House wife</td>\n",
       "      <td>Married</td>\n",
       "      <td>Low</td>\n",
       "      <td>15.0</td>\n",
       "      <td>...</td>\n",
       "      <td>7</td>\n",
       "      <td>11</td>\n",
       "      <td>27</td>\n",
       "      <td>-4</td>\n",
       "      <td>3</td>\n",
       "      <td>2</td>\n",
       "      <td>1</td>\n",
       "      <td>15 to 20</td>\n",
       "      <td>more than 25</td>\n",
       "      <td>25 - 45</td>\n",
       "    </tr>\n",
       "    <tr>\n",
       "      <th>1</th>\n",
       "      <td>Prasanna kumari</td>\n",
       "      <td>32</td>\n",
       "      <td>F</td>\n",
       "      <td>Urban</td>\n",
       "      <td>Graduated</td>\n",
       "      <td>Christian</td>\n",
       "      <td>Unemployed</td>\n",
       "      <td>Unmarried</td>\n",
       "      <td>Middle</td>\n",
       "      <td>4.0</td>\n",
       "      <td>...</td>\n",
       "      <td>27</td>\n",
       "      <td>14</td>\n",
       "      <td>30</td>\n",
       "      <td>13</td>\n",
       "      <td>5</td>\n",
       "      <td>2</td>\n",
       "      <td>2</td>\n",
       "      <td>01 to 5</td>\n",
       "      <td>more than 25</td>\n",
       "      <td>25 - 45</td>\n",
       "    </tr>\n",
       "    <tr>\n",
       "      <th>2</th>\n",
       "      <td>Rajeswari</td>\n",
       "      <td>35</td>\n",
       "      <td>F</td>\n",
       "      <td>Urban</td>\n",
       "      <td>Secondary</td>\n",
       "      <td>Hindu</td>\n",
       "      <td>House wife</td>\n",
       "      <td>Married</td>\n",
       "      <td>Middle</td>\n",
       "      <td>3.0</td>\n",
       "      <td>...</td>\n",
       "      <td>23</td>\n",
       "      <td>14</td>\n",
       "      <td>34</td>\n",
       "      <td>9</td>\n",
       "      <td>5</td>\n",
       "      <td>2</td>\n",
       "      <td>2</td>\n",
       "      <td>01 to 5</td>\n",
       "      <td>less than 25</td>\n",
       "      <td>25 - 45</td>\n",
       "    </tr>\n",
       "    <tr>\n",
       "      <th>3</th>\n",
       "      <td>Y. Srikanth</td>\n",
       "      <td>26</td>\n",
       "      <td>M</td>\n",
       "      <td>Rural</td>\n",
       "      <td>Inter</td>\n",
       "      <td>Hindu</td>\n",
       "      <td>Farmer</td>\n",
       "      <td>Married</td>\n",
       "      <td>Low</td>\n",
       "      <td>1.0</td>\n",
       "      <td>...</td>\n",
       "      <td>9</td>\n",
       "      <td>15</td>\n",
       "      <td>24</td>\n",
       "      <td>-6</td>\n",
       "      <td>4</td>\n",
       "      <td>1</td>\n",
       "      <td>1</td>\n",
       "      <td>01 to 5</td>\n",
       "      <td>less than 25</td>\n",
       "      <td>25 - 45</td>\n",
       "    </tr>\n",
       "    <tr>\n",
       "      <th>4</th>\n",
       "      <td>Saketh</td>\n",
       "      <td>31</td>\n",
       "      <td>M</td>\n",
       "      <td>Rural</td>\n",
       "      <td>Inter</td>\n",
       "      <td>Hindu</td>\n",
       "      <td>Unemployed</td>\n",
       "      <td>Married</td>\n",
       "      <td>Low</td>\n",
       "      <td>2.0</td>\n",
       "      <td>...</td>\n",
       "      <td>17</td>\n",
       "      <td>11</td>\n",
       "      <td>31</td>\n",
       "      <td>6</td>\n",
       "      <td>4</td>\n",
       "      <td>1</td>\n",
       "      <td>1</td>\n",
       "      <td>01 to 5</td>\n",
       "      <td>less than 25</td>\n",
       "      <td>25 - 45</td>\n",
       "    </tr>\n",
       "  </tbody>\n",
       "</table>\n",
       "<p>5 rows × 22 columns</p>\n",
       "</div>"
      ],
      "text/plain": [
       "              Name  AGE Gender Domicile Qualification   Religion  Occupation  \\\n",
       "0       Asma Begum   40      F    Urban     Secondary     Muslim  House wife   \n",
       "1  Prasanna kumari   32      F    Urban     Graduated  Christian  Unemployed   \n",
       "2        Rajeswari   35      F    Urban     Secondary      Hindu  House wife   \n",
       "3      Y. Srikanth   26      M    Rural         Inter      Hindu      Farmer   \n",
       "4           Saketh   31      M    Rural         Inter      Hindu  Unemployed   \n",
       "\n",
       "  Marital status Socio economic status  Duration of illness  ...  P score  \\\n",
       "0        Married                   Low                 15.0  ...        7   \n",
       "1      Unmarried                Middle                  4.0  ...       27   \n",
       "2        Married                Middle                  3.0  ...       23   \n",
       "3        Married                   Low                  1.0  ...        9   \n",
       "4        Married                   Low                  2.0  ...       17   \n",
       "\n",
       "   N score  G score  C score  CGI Score  Gender_cat  ses_cat  \\\n",
       "0       11       27       -4          3           2        1   \n",
       "1       14       30       13          5           2        2   \n",
       "2       14       34        9          5           2        2   \n",
       "3       15       24       -6          4           1        1   \n",
       "4       11       31        6          4           1        1   \n",
       "\n",
       "   duration of illness in years  BFNE Score_cat  Age_cat  \n",
       "0                      15 to 20    more than 25  25 - 45  \n",
       "1                       01 to 5    more than 25  25 - 45  \n",
       "2                       01 to 5    less than 25  25 - 45  \n",
       "3                       01 to 5    less than 25  25 - 45  \n",
       "4                       01 to 5    less than 25  25 - 45  \n",
       "\n",
       "[5 rows x 22 columns]"
      ]
     },
     "execution_count": 27,
     "metadata": {},
     "output_type": "execute_result"
    }
   ],
   "source": [
    "def age(x):\n",
    "    if 0<=x<25:\n",
    "        return \"less than 25\"\n",
    "    elif 25<=x<45:\n",
    "        return \"25 - 45\"\n",
    "    else:\n",
    "        return \"more than 45\"\n",
    "data['Age_cat']=data['AGE'].apply(age)\n",
    "data.head()        "
   ]
  },
  {
   "cell_type": "code",
   "execution_count": 28,
   "metadata": {},
   "outputs": [
    {
     "data": {
      "image/png": "[encoded data removed]",
      "text/plain": [
       "<Figure size 432x288 with 1 Axes>"
      ]
     },
     "metadata": {
      "needs_background": "light"
     },
     "output_type": "display_data"
    }
   ],
   "source": [
    "pd.crosstab(data['Age_cat'],data['BFNE Score_cat'],normalize=0).plot.bar(stacked=True,legend=True)\n",
    "plt.show()"
   ]
  },
  {
   "cell_type": "code",
   "execution_count": 29,
   "metadata": {},
   "outputs": [
    {
     "data": {
      "text/html": [
       "<div>\n",
       "<style scoped>\n",
       "    .dataframe tbody tr th:only-of-type {\n",
       "        vertical-align: middle;\n",
       "    }\n",
       "\n",
       "    .dataframe tbody tr th {\n",
       "        vertical-align: top;\n",
       "    }\n",
       "\n",
       "    .dataframe thead th {\n",
       "        text-align: right;\n",
       "    }\n",
       "</style>\n",
       "<table border=\"1\" class=\"dataframe\">\n",
       "  <thead>\n",
       "    <tr style=\"text-align: right;\">\n",
       "      <th></th>\n",
       "      <th>BFNE Score</th>\n",
       "      <th>PANSS score</th>\n",
       "      <th>P score</th>\n",
       "      <th>N score</th>\n",
       "      <th>G score</th>\n",
       "      <th>CGI Score</th>\n",
       "      <th>Gender_cat</th>\n",
       "      <th>ses_cat</th>\n",
       "    </tr>\n",
       "  </thead>\n",
       "  <tbody>\n",
       "    <tr>\n",
       "      <th>0</th>\n",
       "      <td>27</td>\n",
       "      <td>45</td>\n",
       "      <td>7</td>\n",
       "      <td>11</td>\n",
       "      <td>27</td>\n",
       "      <td>3</td>\n",
       "      <td>2</td>\n",
       "      <td>1</td>\n",
       "    </tr>\n",
       "    <tr>\n",
       "      <th>1</th>\n",
       "      <td>30</td>\n",
       "      <td>71</td>\n",
       "      <td>27</td>\n",
       "      <td>14</td>\n",
       "      <td>30</td>\n",
       "      <td>5</td>\n",
       "      <td>2</td>\n",
       "      <td>2</td>\n",
       "    </tr>\n",
       "    <tr>\n",
       "      <th>2</th>\n",
       "      <td>20</td>\n",
       "      <td>71</td>\n",
       "      <td>23</td>\n",
       "      <td>14</td>\n",
       "      <td>34</td>\n",
       "      <td>5</td>\n",
       "      <td>2</td>\n",
       "      <td>2</td>\n",
       "    </tr>\n",
       "    <tr>\n",
       "      <th>3</th>\n",
       "      <td>12</td>\n",
       "      <td>48</td>\n",
       "      <td>9</td>\n",
       "      <td>15</td>\n",
       "      <td>24</td>\n",
       "      <td>4</td>\n",
       "      <td>1</td>\n",
       "      <td>1</td>\n",
       "    </tr>\n",
       "    <tr>\n",
       "      <th>4</th>\n",
       "      <td>12</td>\n",
       "      <td>59</td>\n",
       "      <td>17</td>\n",
       "      <td>11</td>\n",
       "      <td>31</td>\n",
       "      <td>4</td>\n",
       "      <td>1</td>\n",
       "      <td>1</td>\n",
       "    </tr>\n",
       "  </tbody>\n",
       "</table>\n",
       "</div>"
      ],
      "text/plain": [
       "   BFNE Score  PANSS score  P score  N score  G score  CGI Score  Gender_cat  \\\n",
       "0          27           45        7       11       27          3           2   \n",
       "1          30           71       27       14       30          5           2   \n",
       "2          20           71       23       14       34          5           2   \n",
       "3          12           48        9       15       24          4           1   \n",
       "4          12           59       17       11       31          4           1   \n",
       "\n",
       "   ses_cat  \n",
       "0        1  \n",
       "1        2  \n",
       "2        2  \n",
       "3        1  \n",
       "4        1  "
      ]
     },
     "execution_count": 29,
     "metadata": {},
     "output_type": "execute_result"
    }
   ],
   "source": [
    "data1=data.drop(['Name','AGE','Gender','Domicile','Qualification','Religion','Occupation','Marital status',\n",
    "           'Socio economic status','Duration of illness','Age_cat','C score','BFNE Score_cat','duration of illness in years'],axis=1)\n",
    "data1.head()"
   ]
  },
  {
   "cell_type": "code",
   "execution_count": 30,
   "metadata": {},
   "outputs": [
    {
     "data": {
      "text/html": [
       "<table class=\"simpletable\">\n",
       "<caption>OLS Regression Results</caption>\n",
       "<tr>\n",
       "  <th>Dep. Variable:</th>       <td>BFNE Score</td>    <th>  R-squared:         </th> <td>   0.308</td>\n",
       "</tr>\n",
       "<tr>\n",
       "  <th>Model:</th>                   <td>OLS</td>       <th>  Adj. R-squared:    </th> <td>   0.193</td>\n",
       "</tr>\n",
       "<tr>\n",
       "  <th>Method:</th>             <td>Least Squares</td>  <th>  F-statistic:       </th> <td>   2.671</td>\n",
       "</tr>\n",
       "<tr>\n",
       "  <th>Date:</th>             <td>Fri, 10 Jan 2020</td> <th>  Prob (F-statistic):</th>  <td>0.0222</td> \n",
       "</tr>\n",
       "<tr>\n",
       "  <th>Time:</th>                 <td>21:00:13</td>     <th>  Log-Likelihood:    </th> <td> -161.57</td>\n",
       "</tr>\n",
       "<tr>\n",
       "  <th>No. Observations:</th>      <td>    50</td>      <th>  AIC:               </th> <td>   339.1</td>\n",
       "</tr>\n",
       "<tr>\n",
       "  <th>Df Residuals:</th>          <td>    42</td>      <th>  BIC:               </th> <td>   354.4</td>\n",
       "</tr>\n",
       "<tr>\n",
       "  <th>Df Model:</th>              <td>     7</td>      <th>                     </th>     <td> </td>   \n",
       "</tr>\n",
       "<tr>\n",
       "  <th>Covariance Type:</th>      <td>nonrobust</td>    <th>                     </th>     <td> </td>   \n",
       "</tr>\n",
       "</table>\n",
       "<table class=\"simpletable\">\n",
       "<tr>\n",
       "       <td></td>          <th>coef</th>     <th>std err</th>      <th>t</th>      <th>P>|t|</th>  <th>[0.025</th>    <th>0.975]</th>  \n",
       "</tr>\n",
       "<tr>\n",
       "  <th>const</th>       <td>    8.0806</td> <td>    6.300</td> <td>    1.283</td> <td> 0.207</td> <td>   -4.634</td> <td>   20.795</td>\n",
       "</tr>\n",
       "<tr>\n",
       "  <th>PANSS score</th> <td>   -1.2721</td> <td>    6.922</td> <td>   -0.184</td> <td> 0.855</td> <td>  -15.242</td> <td>   12.698</td>\n",
       "</tr>\n",
       "<tr>\n",
       "  <th>P score</th>     <td>    0.8964</td> <td>    6.918</td> <td>    0.130</td> <td> 0.898</td> <td>  -13.064</td> <td>   14.857</td>\n",
       "</tr>\n",
       "<tr>\n",
       "  <th>N score</th>     <td>    1.2293</td> <td>    6.933</td> <td>    0.177</td> <td> 0.860</td> <td>  -12.762</td> <td>   15.220</td>\n",
       "</tr>\n",
       "<tr>\n",
       "  <th>G score</th>     <td>    1.6369</td> <td>    6.942</td> <td>    0.236</td> <td> 0.815</td> <td>  -12.374</td> <td>   15.647</td>\n",
       "</tr>\n",
       "<tr>\n",
       "  <th>CGI Score</th>   <td>   -1.5760</td> <td>    1.729</td> <td>   -0.912</td> <td> 0.367</td> <td>   -5.064</td> <td>    1.912</td>\n",
       "</tr>\n",
       "<tr>\n",
       "  <th>Gender_cat</th>  <td>    3.2861</td> <td>    2.042</td> <td>    1.609</td> <td> 0.115</td> <td>   -0.835</td> <td>    7.408</td>\n",
       "</tr>\n",
       "<tr>\n",
       "  <th>ses_cat</th>     <td>    7.1354</td> <td>    2.971</td> <td>    2.402</td> <td> 0.021</td> <td>    1.140</td> <td>   13.131</td>\n",
       "</tr>\n",
       "</table>\n",
       "<table class=\"simpletable\">\n",
       "<tr>\n",
       "  <th>Omnibus:</th>       <td>29.018</td> <th>  Durbin-Watson:     </th> <td>   1.837</td>\n",
       "</tr>\n",
       "<tr>\n",
       "  <th>Prob(Omnibus):</th> <td> 0.000</td> <th>  Jarque-Bera (JB):  </th> <td>  57.929</td>\n",
       "</tr>\n",
       "<tr>\n",
       "  <th>Skew:</th>          <td> 1.740</td> <th>  Prob(JB):          </th> <td>2.63e-13</td>\n",
       "</tr>\n",
       "<tr>\n",
       "  <th>Kurtosis:</th>      <td> 6.963</td> <th>  Cond. No.          </th> <td>1.29e+03</td>\n",
       "</tr>\n",
       "</table><br/><br/>Warnings:<br/>[1] Standard Errors assume that the covariance matrix of the errors is correctly specified.<br/>[2] The condition number is large, 1.29e+03. This might indicate that there are<br/>strong multicollinearity or other numerical problems."
      ],
      "text/plain": [
       "<class 'statsmodels.iolib.summary.Summary'>\n",
       "\"\"\"\n",
       "                            OLS Regression Results                            \n",
       "==============================================================================\n",
       "Dep. Variable:             BFNE Score   R-squared:                       0.308\n",
       "Model:                            OLS   Adj. R-squared:                  0.193\n",
       "Method:                 Least Squares   F-statistic:                     2.671\n",
       "Date:                Fri, 10 Jan 2020   Prob (F-statistic):             0.0222\n",
       "Time:                        21:00:13   Log-Likelihood:                -161.57\n",
       "No. Observations:                  50   AIC:                             339.1\n",
       "Df Residuals:                      42   BIC:                             354.4\n",
       "Df Model:                           7                                         \n",
       "Covariance Type:            nonrobust                                         \n",
       "===============================================================================\n",
       "                  coef    std err          t      P>|t|      [0.025      0.975]\n",
       "-------------------------------------------------------------------------------\n",
       "const           8.0806      6.300      1.283      0.207      -4.634      20.795\n",
       "PANSS score    -1.2721      6.922     -0.184      0.855     -15.242      12.698\n",
       "P score         0.8964      6.918      0.130      0.898     -13.064      14.857\n",
       "N score         1.2293      6.933      0.177      0.860     -12.762      15.220\n",
       "G score         1.6369      6.942      0.236      0.815     -12.374      15.647\n",
       "CGI Score      -1.5760      1.729     -0.912      0.367      -5.064       1.912\n",
       "Gender_cat      3.2861      2.042      1.609      0.115      -0.835       7.408\n",
       "ses_cat         7.1354      2.971      2.402      0.021       1.140      13.131\n",
       "==============================================================================\n",
       "Omnibus:                       29.018   Durbin-Watson:                   1.837\n",
       "Prob(Omnibus):                  0.000   Jarque-Bera (JB):               57.929\n",
       "Skew:                           1.740   Prob(JB):                     2.63e-13\n",
       "Kurtosis:                       6.963   Cond. No.                     1.29e+03\n",
       "==============================================================================\n",
       "\n",
       "Warnings:\n",
       "[1] Standard Errors assume that the covariance matrix of the errors is correctly specified.\n",
       "[2] The condition number is large, 1.29e+03. This might indicate that there are\n",
       "strong multicollinearity or other numerical problems.\n",
       "\"\"\""
      ]
     },
     "execution_count": 30,
     "metadata": {},
     "output_type": "execute_result"
    }
   ],
   "source": [
    "x=data1.drop('BFNE Score',axis=1)\n",
    "y=data1['BFNE Score']\n",
    "x_constant=sm.add_constant(x)\n",
    "model=sm.OLS(y,x_constant).fit()\n",
    "predictions=model.predict(x_constant)\n",
    "model.summary()"
   ]
  },
  {
   "cell_type": "code",
   "execution_count": 31,
   "metadata": {},
   "outputs": [
    {
     "data": {
      "text/plain": [
       "const          0.206682\n",
       "PANSS score    0.855083\n",
       "P score        0.897510\n",
       "N score        0.860109\n",
       "G score        0.814752\n",
       "CGI Score      0.367123\n",
       "Gender_cat     0.115103\n",
       "ses_cat        0.020818\n",
       "dtype: float64"
      ]
     },
     "execution_count": 31,
     "metadata": {},
     "output_type": "execute_result"
    }
   ],
   "source": [
    "X_var = sm.add_constant(x)\n",
    "model = sm.OLS(y,X_var).fit()\n",
    "model.pvalues"
   ]
  },
  {
   "cell_type": "code",
   "execution_count": 32,
   "metadata": {},
   "outputs": [
    {
     "data": {
      "image/png": "[encoded data removed]",
      "text/plain": [
       "<Figure size 720x360 with 1 Axes>"
      ]
     },
     "metadata": {
      "needs_background": "light"
     },
     "output_type": "display_data"
    }
   ],
   "source": [
    "plt.figure(figsize=(10,5))\n",
    "sns.barplot(x='duration of illness in years', y='BFNE Score', data=data,palette='muted');"
   ]
  },
  {
   "cell_type": "code",
   "execution_count": 33,
   "metadata": {},
   "outputs": [
    {
     "data": {
      "image/png": "[encoded data removed]",
      "text/plain": [
       "<Figure size 720x360 with 1 Axes>"
      ]
     },
     "metadata": {
      "needs_background": "light"
     },
     "output_type": "display_data"
    }
   ],
   "source": [
    "plt.figure(figsize=(10,5))\n",
    "sns.barplot(x='Marital status', y='BFNE Score', data=data,palette='muted');"
   ]
  },
  {
   "cell_type": "code",
   "execution_count": 34,
   "metadata": {},
   "outputs": [
    {
     "name": "stdout",
     "output_type": "stream",
     "text": [
      "Coefficients: [-1.27208007  0.89643853  1.22931794  1.63686314 -1.5759964   3.28614643\n",
      "  7.13537922]\n",
      "Intercept: 8.080629588141285\n",
      "R^2 score: 0.3080628675369661\n"
     ]
    }
   ],
   "source": [
    "X = data1.drop('BFNE Score', axis=1)\n",
    "y= data1['BFNE Score']\n",
    "from sklearn.linear_model import LinearRegression\n",
    "\n",
    "lin_reg = LinearRegression()\n",
    "lin_reg.fit(X, y)\n",
    "print(f'Coefficients: {lin_reg.coef_}')\n",
    "print(f'Intercept: {lin_reg.intercept_}')\n",
    "print(f'R^2 score: {lin_reg.score(X, y)}')"
   ]
  },
  {
   "cell_type": "code",
   "execution_count": 35,
   "metadata": {},
   "outputs": [
    {
     "name": "stdout",
     "output_type": "stream",
     "text": [
      "(35, 7)\n",
      "(15, 7)\n"
     ]
    }
   ],
   "source": [
    "from sklearn.model_selection import train_test_split\n",
    "X_train, X_test , y_train, y_test = train_test_split(X,y, test_size = 0.30, random_state = 1)\n",
    "print(X_train.shape)\n",
    "print(X_test.shape)"
   ]
  },
  {
   "cell_type": "code",
   "execution_count": 36,
   "metadata": {},
   "outputs": [
    {
     "data": {
      "text/html": [
       "<table class=\"simpletable\">\n",
       "<caption>OLS Regression Results</caption>\n",
       "<tr>\n",
       "  <th>Dep. Variable:</th>       <td>BFNE Score</td>    <th>  R-squared:         </th> <td>   0.308</td>\n",
       "</tr>\n",
       "<tr>\n",
       "  <th>Model:</th>                   <td>OLS</td>       <th>  Adj. R-squared:    </th> <td>   0.193</td>\n",
       "</tr>\n",
       "<tr>\n",
       "  <th>Method:</th>             <td>Least Squares</td>  <th>  F-statistic:       </th> <td>   2.671</td>\n",
       "</tr>\n",
       "<tr>\n",
       "  <th>Date:</th>             <td>Fri, 10 Jan 2020</td> <th>  Prob (F-statistic):</th>  <td>0.0222</td> \n",
       "</tr>\n",
       "<tr>\n",
       "  <th>Time:</th>                 <td>21:00:16</td>     <th>  Log-Likelihood:    </th> <td> -161.57</td>\n",
       "</tr>\n",
       "<tr>\n",
       "  <th>No. Observations:</th>      <td>    50</td>      <th>  AIC:               </th> <td>   339.1</td>\n",
       "</tr>\n",
       "<tr>\n",
       "  <th>Df Residuals:</th>          <td>    42</td>      <th>  BIC:               </th> <td>   354.4</td>\n",
       "</tr>\n",
       "<tr>\n",
       "  <th>Df Model:</th>              <td>     7</td>      <th>                     </th>     <td> </td>   \n",
       "</tr>\n",
       "<tr>\n",
       "  <th>Covariance Type:</th>      <td>nonrobust</td>    <th>                     </th>     <td> </td>   \n",
       "</tr>\n",
       "</table>\n",
       "<table class=\"simpletable\">\n",
       "<tr>\n",
       "       <td></td>          <th>coef</th>     <th>std err</th>      <th>t</th>      <th>P>|t|</th>  <th>[0.025</th>    <th>0.975]</th>  \n",
       "</tr>\n",
       "<tr>\n",
       "  <th>const</th>       <td>    8.0806</td> <td>    6.300</td> <td>    1.283</td> <td> 0.207</td> <td>   -4.634</td> <td>   20.795</td>\n",
       "</tr>\n",
       "<tr>\n",
       "  <th>PANSS score</th> <td>   -1.2721</td> <td>    6.922</td> <td>   -0.184</td> <td> 0.855</td> <td>  -15.242</td> <td>   12.698</td>\n",
       "</tr>\n",
       "<tr>\n",
       "  <th>P score</th>     <td>    0.8964</td> <td>    6.918</td> <td>    0.130</td> <td> 0.898</td> <td>  -13.064</td> <td>   14.857</td>\n",
       "</tr>\n",
       "<tr>\n",
       "  <th>N score</th>     <td>    1.2293</td> <td>    6.933</td> <td>    0.177</td> <td> 0.860</td> <td>  -12.762</td> <td>   15.220</td>\n",
       "</tr>\n",
       "<tr>\n",
       "  <th>G score</th>     <td>    1.6369</td> <td>    6.942</td> <td>    0.236</td> <td> 0.815</td> <td>  -12.374</td> <td>   15.647</td>\n",
       "</tr>\n",
       "<tr>\n",
       "  <th>CGI Score</th>   <td>   -1.5760</td> <td>    1.729</td> <td>   -0.912</td> <td> 0.367</td> <td>   -5.064</td> <td>    1.912</td>\n",
       "</tr>\n",
       "<tr>\n",
       "  <th>Gender_cat</th>  <td>    3.2861</td> <td>    2.042</td> <td>    1.609</td> <td> 0.115</td> <td>   -0.835</td> <td>    7.408</td>\n",
       "</tr>\n",
       "<tr>\n",
       "  <th>ses_cat</th>     <td>    7.1354</td> <td>    2.971</td> <td>    2.402</td> <td> 0.021</td> <td>    1.140</td> <td>   13.131</td>\n",
       "</tr>\n",
       "</table>\n",
       "<table class=\"simpletable\">\n",
       "<tr>\n",
       "  <th>Omnibus:</th>       <td>29.018</td> <th>  Durbin-Watson:     </th> <td>   1.837</td>\n",
       "</tr>\n",
       "<tr>\n",
       "  <th>Prob(Omnibus):</th> <td> 0.000</td> <th>  Jarque-Bera (JB):  </th> <td>  57.929</td>\n",
       "</tr>\n",
       "<tr>\n",
       "  <th>Skew:</th>          <td> 1.740</td> <th>  Prob(JB):          </th> <td>2.63e-13</td>\n",
       "</tr>\n",
       "<tr>\n",
       "  <th>Kurtosis:</th>      <td> 6.963</td> <th>  Cond. No.          </th> <td>1.29e+03</td>\n",
       "</tr>\n",
       "</table><br/><br/>Warnings:<br/>[1] Standard Errors assume that the covariance matrix of the errors is correctly specified.<br/>[2] The condition number is large, 1.29e+03. This might indicate that there are<br/>strong multicollinearity or other numerical problems."
      ],
      "text/plain": [
       "<class 'statsmodels.iolib.summary.Summary'>\n",
       "\"\"\"\n",
       "                            OLS Regression Results                            \n",
       "==============================================================================\n",
       "Dep. Variable:             BFNE Score   R-squared:                       0.308\n",
       "Model:                            OLS   Adj. R-squared:                  0.193\n",
       "Method:                 Least Squares   F-statistic:                     2.671\n",
       "Date:                Fri, 10 Jan 2020   Prob (F-statistic):             0.0222\n",
       "Time:                        21:00:16   Log-Likelihood:                -161.57\n",
       "No. Observations:                  50   AIC:                             339.1\n",
       "Df Residuals:                      42   BIC:                             354.4\n",
       "Df Model:                           7                                         \n",
       "Covariance Type:            nonrobust                                         \n",
       "===============================================================================\n",
       "                  coef    std err          t      P>|t|      [0.025      0.975]\n",
       "-------------------------------------------------------------------------------\n",
       "const           8.0806      6.300      1.283      0.207      -4.634      20.795\n",
       "PANSS score    -1.2721      6.922     -0.184      0.855     -15.242      12.698\n",
       "P score         0.8964      6.918      0.130      0.898     -13.064      14.857\n",
       "N score         1.2293      6.933      0.177      0.860     -12.762      15.220\n",
       "G score         1.6369      6.942      0.236      0.815     -12.374      15.647\n",
       "CGI Score      -1.5760      1.729     -0.912      0.367      -5.064       1.912\n",
       "Gender_cat      3.2861      2.042      1.609      0.115      -0.835       7.408\n",
       "ses_cat         7.1354      2.971      2.402      0.021       1.140      13.131\n",
       "==============================================================================\n",
       "Omnibus:                       29.018   Durbin-Watson:                   1.837\n",
       "Prob(Omnibus):                  0.000   Jarque-Bera (JB):               57.929\n",
       "Skew:                           1.740   Prob(JB):                     2.63e-13\n",
       "Kurtosis:                       6.963   Cond. No.                     1.29e+03\n",
       "==============================================================================\n",
       "\n",
       "Warnings:\n",
       "[1] Standard Errors assume that the covariance matrix of the errors is correctly specified.\n",
       "[2] The condition number is large, 1.29e+03. This might indicate that there are\n",
       "strong multicollinearity or other numerical problems.\n",
       "\"\"\""
      ]
     },
     "execution_count": 36,
     "metadata": {},
     "output_type": "execute_result"
    }
   ],
   "source": [
    "import warnings \n",
    "warnings.filterwarnings('ignore')\n",
    "import statsmodels.api as sm\n",
    "\n",
    "X_constant = sm.add_constant(X)\n",
    "lin_reg = sm.OLS(y,X_constant).fit()\n",
    "lin_reg.summary()\n",
    "\n"
   ]
  },
  {
   "cell_type": "code",
   "execution_count": 37,
   "metadata": {},
   "outputs": [
    {
     "data": {
      "image/png": "[encoded data removed]",
      "text/plain": [
       "<Figure size 432x288 with 1 Axes>"
      ]
     },
     "metadata": {
      "needs_background": "light"
     },
     "output_type": "display_data"
    }
   ],
   "source": [
    "import warnings \n",
    "warnings.filterwarnings('ignore')\n",
    "import statsmodels.api as sm\n",
    "import statsmodels.tsa.api as smt\n",
    "\n",
    "acf = smt.graphics.plot_acf(lin_reg.resid, lags=40 , alpha=0.05)\n",
    "acf.show()"
   ]
  },
  {
   "cell_type": "code",
   "execution_count": 38,
   "metadata": {},
   "outputs": [
    {
     "data": {
      "text/html": [
       "<div>\n",
       "<style scoped>\n",
       "    .dataframe tbody tr th:only-of-type {\n",
       "        vertical-align: middle;\n",
       "    }\n",
       "\n",
       "    .dataframe tbody tr th {\n",
       "        vertical-align: top;\n",
       "    }\n",
       "\n",
       "    .dataframe thead th {\n",
       "        text-align: right;\n",
       "    }\n",
       "</style>\n",
       "<table border=\"1\" class=\"dataframe\">\n",
       "  <thead>\n",
       "    <tr style=\"text-align: right;\">\n",
       "      <th></th>\n",
       "      <th>Name</th>\n",
       "      <th>AGE</th>\n",
       "      <th>Gender</th>\n",
       "      <th>Domicile</th>\n",
       "      <th>Qualification</th>\n",
       "      <th>Religion</th>\n",
       "      <th>Occupation</th>\n",
       "      <th>Marital status</th>\n",
       "      <th>Socio economic status</th>\n",
       "      <th>Duration of illness</th>\n",
       "      <th>...</th>\n",
       "      <th>P score</th>\n",
       "      <th>N score</th>\n",
       "      <th>G score</th>\n",
       "      <th>C score</th>\n",
       "      <th>CGI Score</th>\n",
       "      <th>Gender_cat</th>\n",
       "      <th>ses_cat</th>\n",
       "      <th>duration of illness in years</th>\n",
       "      <th>BFNE Score_cat</th>\n",
       "      <th>Age_cat</th>\n",
       "    </tr>\n",
       "  </thead>\n",
       "  <tbody>\n",
       "    <tr>\n",
       "      <th>0</th>\n",
       "      <td>Asma Begum</td>\n",
       "      <td>40</td>\n",
       "      <td>F</td>\n",
       "      <td>Urban</td>\n",
       "      <td>Secondary</td>\n",
       "      <td>Muslim</td>\n",
       "      <td>House wife</td>\n",
       "      <td>Married</td>\n",
       "      <td>Low</td>\n",
       "      <td>15.0</td>\n",
       "      <td>...</td>\n",
       "      <td>7</td>\n",
       "      <td>11</td>\n",
       "      <td>27</td>\n",
       "      <td>-4</td>\n",
       "      <td>3</td>\n",
       "      <td>2</td>\n",
       "      <td>1</td>\n",
       "      <td>15 to 20</td>\n",
       "      <td>more than 25</td>\n",
       "      <td>25 - 45</td>\n",
       "    </tr>\n",
       "    <tr>\n",
       "      <th>1</th>\n",
       "      <td>Prasanna kumari</td>\n",
       "      <td>32</td>\n",
       "      <td>F</td>\n",
       "      <td>Urban</td>\n",
       "      <td>Graduated</td>\n",
       "      <td>Christian</td>\n",
       "      <td>Unemployed</td>\n",
       "      <td>Unmarried</td>\n",
       "      <td>Middle</td>\n",
       "      <td>4.0</td>\n",
       "      <td>...</td>\n",
       "      <td>27</td>\n",
       "      <td>14</td>\n",
       "      <td>30</td>\n",
       "      <td>13</td>\n",
       "      <td>5</td>\n",
       "      <td>2</td>\n",
       "      <td>2</td>\n",
       "      <td>01 to 5</td>\n",
       "      <td>more than 25</td>\n",
       "      <td>25 - 45</td>\n",
       "    </tr>\n",
       "    <tr>\n",
       "      <th>2</th>\n",
       "      <td>Rajeswari</td>\n",
       "      <td>35</td>\n",
       "      <td>F</td>\n",
       "      <td>Urban</td>\n",
       "      <td>Secondary</td>\n",
       "      <td>Hindu</td>\n",
       "      <td>House wife</td>\n",
       "      <td>Married</td>\n",
       "      <td>Middle</td>\n",
       "      <td>3.0</td>\n",
       "      <td>...</td>\n",
       "      <td>23</td>\n",
       "      <td>14</td>\n",
       "      <td>34</td>\n",
       "      <td>9</td>\n",
       "      <td>5</td>\n",
       "      <td>2</td>\n",
       "      <td>2</td>\n",
       "      <td>01 to 5</td>\n",
       "      <td>less than 25</td>\n",
       "      <td>25 - 45</td>\n",
       "    </tr>\n",
       "    <tr>\n",
       "      <th>3</th>\n",
       "      <td>Y. Srikanth</td>\n",
       "      <td>26</td>\n",
       "      <td>M</td>\n",
       "      <td>Rural</td>\n",
       "      <td>Inter</td>\n",
       "      <td>Hindu</td>\n",
       "      <td>Farmer</td>\n",
       "      <td>Married</td>\n",
       "      <td>Low</td>\n",
       "      <td>1.0</td>\n",
       "      <td>...</td>\n",
       "      <td>9</td>\n",
       "      <td>15</td>\n",
       "      <td>24</td>\n",
       "      <td>-6</td>\n",
       "      <td>4</td>\n",
       "      <td>1</td>\n",
       "      <td>1</td>\n",
       "      <td>01 to 5</td>\n",
       "      <td>less than 25</td>\n",
       "      <td>25 - 45</td>\n",
       "    </tr>\n",
       "    <tr>\n",
       "      <th>4</th>\n",
       "      <td>Saketh</td>\n",
       "      <td>31</td>\n",
       "      <td>M</td>\n",
       "      <td>Rural</td>\n",
       "      <td>Inter</td>\n",
       "      <td>Hindu</td>\n",
       "      <td>Unemployed</td>\n",
       "      <td>Married</td>\n",
       "      <td>Low</td>\n",
       "      <td>2.0</td>\n",
       "      <td>...</td>\n",
       "      <td>17</td>\n",
       "      <td>11</td>\n",
       "      <td>31</td>\n",
       "      <td>6</td>\n",
       "      <td>4</td>\n",
       "      <td>1</td>\n",
       "      <td>1</td>\n",
       "      <td>01 to 5</td>\n",
       "      <td>less than 25</td>\n",
       "      <td>25 - 45</td>\n",
       "    </tr>\n",
       "  </tbody>\n",
       "</table>\n",
       "<p>5 rows × 22 columns</p>\n",
       "</div>"
      ],
      "text/plain": [
       "              Name  AGE Gender Domicile Qualification   Religion  Occupation  \\\n",
       "0       Asma Begum   40      F    Urban     Secondary     Muslim  House wife   \n",
       "1  Prasanna kumari   32      F    Urban     Graduated  Christian  Unemployed   \n",
       "2        Rajeswari   35      F    Urban     Secondary      Hindu  House wife   \n",
       "3      Y. Srikanth   26      M    Rural         Inter      Hindu      Farmer   \n",
       "4           Saketh   31      M    Rural         Inter      Hindu  Unemployed   \n",
       "\n",
       "  Marital status Socio economic status  Duration of illness  ...  P score  \\\n",
       "0        Married                   Low                 15.0  ...        7   \n",
       "1      Unmarried                Middle                  4.0  ...       27   \n",
       "2        Married                Middle                  3.0  ...       23   \n",
       "3        Married                   Low                  1.0  ...        9   \n",
       "4        Married                   Low                  2.0  ...       17   \n",
       "\n",
       "   N score  G score  C score  CGI Score  Gender_cat  ses_cat  \\\n",
       "0       11       27       -4          3           2        1   \n",
       "1       14       30       13          5           2        2   \n",
       "2       14       34        9          5           2        2   \n",
       "3       15       24       -6          4           1        1   \n",
       "4       11       31        6          4           1        1   \n",
       "\n",
       "   duration of illness in years  BFNE Score_cat  Age_cat  \n",
       "0                      15 to 20    more than 25  25 - 45  \n",
       "1                       01 to 5    more than 25  25 - 45  \n",
       "2                       01 to 5    less than 25  25 - 45  \n",
       "3                       01 to 5    less than 25  25 - 45  \n",
       "4                       01 to 5    less than 25  25 - 45  \n",
       "\n",
       "[5 rows x 22 columns]"
      ]
     },
     "execution_count": 38,
     "metadata": {},
     "output_type": "execute_result"
    }
   ],
   "source": [
    "data['BFNE Score_cat']=data['BFNE Score'].apply(bfne)\n",
    "data.head()        "
   ]
  },
  {
   "cell_type": "code",
   "execution_count": 39,
   "metadata": {},
   "outputs": [
    {
     "data": {
      "text/plain": [
       "AGE                    33.60\n",
       "Duration of illness     3.78\n",
       "BFNE Score             28.80\n",
       "PANSS score            98.60\n",
       "P score                21.20\n",
       "N score                26.80\n",
       "G score                50.60\n",
       "C score                -5.60\n",
       "CGI Score               5.40\n",
       "Gender_cat              1.00\n",
       "ses_cat                 1.40\n",
       "dtype: float64"
      ]
     },
     "execution_count": 39,
     "metadata": {},
     "output_type": "execute_result"
    }
   ],
   "source": [
    "data001=data[data['Gender']=='M']\n",
    "more_than_25=data001[data001['BFNE Score']>=25]\n",
    "more_than_25.mean()\n"
   ]
  },
  {
   "cell_type": "code",
   "execution_count": 40,
   "metadata": {},
   "outputs": [
    {
     "data": {
      "text/plain": [
       "AGE                    36.794872\n",
       "Duration of illness     9.782051\n",
       "BFNE Score             15.923077\n",
       "PANSS score            68.230769\n",
       "P score                17.948718\n",
       "N score                17.692308\n",
       "G score                32.615385\n",
       "C score                 0.256410\n",
       "CGI Score               4.410256\n",
       "Gender_cat              1.512821\n",
       "ses_cat                 1.076923\n",
       "dtype: float64"
      ]
     },
     "execution_count": 40,
     "metadata": {},
     "output_type": "execute_result"
    }
   ],
   "source": [
    "less_than_25=data[data['BFNE Score']<25]\n",
    "less_than_25.mean()"
   ]
  },
  {
   "cell_type": "code",
   "execution_count": 41,
   "metadata": {},
   "outputs": [
    {
     "data": {
      "text/html": [
       "<div>\n",
       "<style scoped>\n",
       "    .dataframe tbody tr th:only-of-type {\n",
       "        vertical-align: middle;\n",
       "    }\n",
       "\n",
       "    .dataframe tbody tr th {\n",
       "        vertical-align: top;\n",
       "    }\n",
       "\n",
       "    .dataframe thead th {\n",
       "        text-align: right;\n",
       "    }\n",
       "</style>\n",
       "<table border=\"1\" class=\"dataframe\">\n",
       "  <thead>\n",
       "    <tr style=\"text-align: right;\">\n",
       "      <th></th>\n",
       "      <th>Age</th>\n",
       "    </tr>\n",
       "  </thead>\n",
       "  <tbody>\n",
       "    <tr>\n",
       "      <th>BFNE Score less than 25</th>\n",
       "      <td>36.794872</td>\n",
       "    </tr>\n",
       "    <tr>\n",
       "      <th>BFNE Score more than 25</th>\n",
       "      <td>38.727273</td>\n",
       "    </tr>\n",
       "  </tbody>\n",
       "</table>\n",
       "</div>"
      ],
      "text/plain": [
       "                               Age\n",
       "BFNE Score less than 25  36.794872\n",
       "BFNE Score more than 25  38.727273"
      ]
     },
     "execution_count": 41,
     "metadata": {},
     "output_type": "execute_result"
    }
   ],
   "source": [
    "d1=pd.DataFrame({'Age':[ 36.794872,38.727273]})\n",
    "table = pd.pivot_table(d1, index =['BFNE Score less than 25', 'BFNE Score more than 25']) \n",
    "  \n",
    "table "
   ]
  },
  {
   "cell_type": "code",
   "execution_count": 42,
   "metadata": {},
   "outputs": [
    {
     "data": {
      "text/html": [
       "<div>\n",
       "<style scoped>\n",
       "    .dataframe tbody tr th:only-of-type {\n",
       "        vertical-align: middle;\n",
       "    }\n",
       "\n",
       "    .dataframe tbody tr th {\n",
       "        vertical-align: top;\n",
       "    }\n",
       "\n",
       "    .dataframe thead th {\n",
       "        text-align: right;\n",
       "    }\n",
       "</style>\n",
       "<table border=\"1\" class=\"dataframe\">\n",
       "  <thead>\n",
       "    <tr style=\"text-align: right;\">\n",
       "      <th></th>\n",
       "      <th>Duration of illness</th>\n",
       "    </tr>\n",
       "  </thead>\n",
       "  <tbody>\n",
       "    <tr>\n",
       "      <th>BFNE Score less than 25</th>\n",
       "      <td>9.782051</td>\n",
       "    </tr>\n",
       "    <tr>\n",
       "      <th>BFNE Score more than 25</th>\n",
       "      <td>5.018182</td>\n",
       "    </tr>\n",
       "  </tbody>\n",
       "</table>\n",
       "</div>"
      ],
      "text/plain": [
       "                         Duration of illness\n",
       "BFNE Score less than 25             9.782051\n",
       "BFNE Score more than 25             5.018182"
      ]
     },
     "execution_count": 42,
     "metadata": {},
     "output_type": "execute_result"
    }
   ],
   "source": [
    "d1=pd.DataFrame({'Duration of illness':[ 9.782051,5.018182]})\n",
    "table = pd.pivot_table(d1, index =['BFNE Score less than 25', 'BFNE Score more than 25']) \n",
    "  \n",
    "table "
   ]
  },
  {
   "cell_type": "code",
   "execution_count": 43,
   "metadata": {},
   "outputs": [
    {
     "data": {
      "text/html": [
       "<div>\n",
       "<style scoped>\n",
       "    .dataframe tbody tr th:only-of-type {\n",
       "        vertical-align: middle;\n",
       "    }\n",
       "\n",
       "    .dataframe tbody tr th {\n",
       "        vertical-align: top;\n",
       "    }\n",
       "\n",
       "    .dataframe thead th {\n",
       "        text-align: right;\n",
       "    }\n",
       "</style>\n",
       "<table border=\"1\" class=\"dataframe\">\n",
       "  <thead>\n",
       "    <tr style=\"text-align: right;\">\n",
       "      <th></th>\n",
       "      <th>Gender</th>\n",
       "    </tr>\n",
       "  </thead>\n",
       "  <tbody>\n",
       "    <tr>\n",
       "      <th>BFNE Score less than 25</th>\n",
       "      <td>9.782051</td>\n",
       "    </tr>\n",
       "    <tr>\n",
       "      <th>BFNE Score more than 25</th>\n",
       "      <td>5.018182</td>\n",
       "    </tr>\n",
       "  </tbody>\n",
       "</table>\n",
       "</div>"
      ],
      "text/plain": [
       "                           Gender\n",
       "BFNE Score less than 25  9.782051\n",
       "BFNE Score more than 25  5.018182"
      ]
     },
     "execution_count": 43,
     "metadata": {},
     "output_type": "execute_result"
    }
   ],
   "source": [
    "d1=pd.DataFrame({'Gender':[ 9.782051,5.018182]})\n",
    "table = pd.pivot_table(d1, index =['BFNE Score less than 25', 'BFNE Score more than 25']) \n",
    "  \n",
    "table "
   ]
  },
  {
   "cell_type": "code",
   "execution_count": 44,
   "metadata": {},
   "outputs": [
    {
     "data": {
      "text/html": [
       "<div>\n",
       "<style scoped>\n",
       "    .dataframe tbody tr th:only-of-type {\n",
       "        vertical-align: middle;\n",
       "    }\n",
       "\n",
       "    .dataframe tbody tr th {\n",
       "        vertical-align: top;\n",
       "    }\n",
       "\n",
       "    .dataframe thead th {\n",
       "        text-align: right;\n",
       "    }\n",
       "</style>\n",
       "<table border=\"1\" class=\"dataframe\">\n",
       "  <thead>\n",
       "    <tr style=\"text-align: right;\">\n",
       "      <th></th>\n",
       "      <th>AGE</th>\n",
       "      <th>Duration of illness</th>\n",
       "    </tr>\n",
       "    <tr>\n",
       "      <th>BFNE Score_cat</th>\n",
       "      <th></th>\n",
       "      <th></th>\n",
       "    </tr>\n",
       "  </thead>\n",
       "  <tbody>\n",
       "    <tr>\n",
       "      <th>less than 25</th>\n",
       "      <td>36.794872</td>\n",
       "      <td>9.782051</td>\n",
       "    </tr>\n",
       "    <tr>\n",
       "      <th>more than 25</th>\n",
       "      <td>38.727273</td>\n",
       "      <td>5.018182</td>\n",
       "    </tr>\n",
       "  </tbody>\n",
       "</table>\n",
       "</div>"
      ],
      "text/plain": [
       "                      AGE  Duration of illness\n",
       "BFNE Score_cat                                \n",
       "less than 25    36.794872             9.782051\n",
       "more than 25    38.727273             5.018182"
      ]
     },
     "execution_count": 44,
     "metadata": {},
     "output_type": "execute_result"
    }
   ],
   "source": [
    "data001=data.groupby('BFNE Score_cat').mean()\n",
    "data001.drop(['BFNE Score','PANSS score','P score','N score','G score','C score','CGI Score','Gender_cat','ses_cat'],axis=1)"
   ]
  },
  {
   "cell_type": "code",
   "execution_count": 45,
   "metadata": {},
   "outputs": [
    {
     "data": {
      "text/plain": [
       "(56.300643800643805,\n",
       " 0.016777886695656476,\n",
       " 36,\n",
       " array([[8.58, 0.66, 1.98, 2.64, 0.66, 1.98, 0.66, 3.96, 2.64, 0.66, 1.32,\n",
       "         0.66, 1.32, 0.66, 0.66, 1.98, 0.66, 0.66, 0.66],\n",
       "        [0.78, 0.06, 0.18, 0.24, 0.06, 0.18, 0.06, 0.36, 0.24, 0.06, 0.12,\n",
       "         0.06, 0.12, 0.06, 0.06, 0.18, 0.06, 0.06, 0.06],\n",
       "        [3.64, 0.28, 0.84, 1.12, 0.28, 0.84, 0.28, 1.68, 1.12, 0.28, 0.56,\n",
       "         0.28, 0.56, 0.28, 0.28, 0.84, 0.28, 0.28, 0.28]]))"
      ]
     },
     "execution_count": 45,
     "metadata": {},
     "output_type": "execute_result"
    }
   ],
   "source": [
    "d1=pd.crosstab(data['Age_cat'],data['BFNE Score'])\n",
    "d1\n",
    "from scipy.stats import chi2_contingency\n",
    "chi2_contingency(d1)\n"
   ]
  },
  {
   "cell_type": "code",
   "execution_count": 46,
   "metadata": {},
   "outputs": [
    {
     "data": {
      "text/plain": [
       "(125.1747557997558,\n",
       " 0.12371044447123146,\n",
       " 108,\n",
       " array([[5.2 , 0.4 , 1.2 , 1.6 , 0.4 , 1.2 , 0.4 , 2.4 , 1.6 , 0.4 , 0.8 ,\n",
       "         0.4 , 0.8 , 0.4 , 0.4 , 1.2 , 0.4 , 0.4 , 0.4 ],\n",
       "        [1.82, 0.14, 0.42, 0.56, 0.14, 0.42, 0.14, 0.84, 0.56, 0.14, 0.28,\n",
       "         0.14, 0.28, 0.14, 0.14, 0.42, 0.14, 0.14, 0.14],\n",
       "        [1.82, 0.14, 0.42, 0.56, 0.14, 0.42, 0.14, 0.84, 0.56, 0.14, 0.28,\n",
       "         0.14, 0.28, 0.14, 0.14, 0.42, 0.14, 0.14, 0.14],\n",
       "        [1.56, 0.12, 0.36, 0.48, 0.12, 0.36, 0.12, 0.72, 0.48, 0.12, 0.24,\n",
       "         0.12, 0.24, 0.12, 0.12, 0.36, 0.12, 0.12, 0.12],\n",
       "        [0.26, 0.02, 0.06, 0.08, 0.02, 0.06, 0.02, 0.12, 0.08, 0.02, 0.04,\n",
       "         0.02, 0.04, 0.02, 0.02, 0.06, 0.02, 0.02, 0.02],\n",
       "        [1.56, 0.12, 0.36, 0.48, 0.12, 0.36, 0.12, 0.72, 0.48, 0.12, 0.24,\n",
       "         0.12, 0.24, 0.12, 0.12, 0.36, 0.12, 0.12, 0.12],\n",
       "        [0.78, 0.06, 0.18, 0.24, 0.06, 0.18, 0.06, 0.36, 0.24, 0.06, 0.12,\n",
       "         0.06, 0.12, 0.06, 0.06, 0.18, 0.06, 0.06, 0.06]]))"
      ]
     },
     "execution_count": 46,
     "metadata": {},
     "output_type": "execute_result"
    }
   ],
   "source": [
    "d1=pd.crosstab(data['duration of illness in years'],data['BFNE Score'])\n",
    "d1\n",
    "from scipy.stats import chi2_contingency\n",
    "chi2_contingency(d1)\n"
   ]
  },
  {
   "cell_type": "code",
   "execution_count": 47,
   "metadata": {},
   "outputs": [
    {
     "data": {
      "text/html": [
       "<div>\n",
       "<style scoped>\n",
       "    .dataframe tbody tr th:only-of-type {\n",
       "        vertical-align: middle;\n",
       "    }\n",
       "\n",
       "    .dataframe tbody tr th {\n",
       "        vertical-align: top;\n",
       "    }\n",
       "\n",
       "    .dataframe thead th {\n",
       "        text-align: right;\n",
       "    }\n",
       "</style>\n",
       "<table border=\"1\" class=\"dataframe\">\n",
       "  <thead>\n",
       "    <tr style=\"text-align: right;\">\n",
       "      <th></th>\n",
       "      <th>P values</th>\n",
       "    </tr>\n",
       "  </thead>\n",
       "  <tbody>\n",
       "    <tr>\n",
       "      <th>Age</th>\n",
       "      <td>0.01677</td>\n",
       "    </tr>\n",
       "    <tr>\n",
       "      <th>Duration of illness</th>\n",
       "      <td>0.12370</td>\n",
       "    </tr>\n",
       "  </tbody>\n",
       "</table>\n",
       "</div>"
      ],
      "text/plain": [
       "                     P values\n",
       "Age                   0.01677\n",
       "Duration of illness   0.12370"
      ]
     },
     "execution_count": 47,
     "metadata": {},
     "output_type": "execute_result"
    }
   ],
   "source": [
    "d0=pd.DataFrame({'P values':[ 0.01677,0.1237]})\n",
    "table = pd.pivot_table(d0, index =['Age', 'Duration of illness']) \n",
    "  \n",
    "table "
   ]
  },
  {
   "cell_type": "markdown",
   "metadata": {},
   "source": [
    "this shows that if the values of pvalue is less than 0.05 than reject the null value\n",
    "that mean value lies beyond critical value towards the right"
   ]
  },
  {
   "cell_type": "code",
   "execution_count": 48,
   "metadata": {},
   "outputs": [
    {
     "data": {
      "text/html": [
       "<div>\n",
       "<style scoped>\n",
       "    .dataframe tbody tr th:only-of-type {\n",
       "        vertical-align: middle;\n",
       "    }\n",
       "\n",
       "    .dataframe tbody tr th {\n",
       "        vertical-align: top;\n",
       "    }\n",
       "\n",
       "    .dataframe thead th {\n",
       "        text-align: right;\n",
       "    }\n",
       "</style>\n",
       "<table border=\"1\" class=\"dataframe\">\n",
       "  <thead>\n",
       "    <tr style=\"text-align: right;\">\n",
       "      <th>BFNE Score</th>\n",
       "      <th>12</th>\n",
       "      <th>13</th>\n",
       "      <th>14</th>\n",
       "      <th>15</th>\n",
       "      <th>16</th>\n",
       "      <th>17</th>\n",
       "      <th>18</th>\n",
       "      <th>19</th>\n",
       "      <th>20</th>\n",
       "      <th>23</th>\n",
       "      <th>24</th>\n",
       "      <th>25</th>\n",
       "      <th>27</th>\n",
       "      <th>28</th>\n",
       "      <th>29</th>\n",
       "      <th>30</th>\n",
       "      <th>32</th>\n",
       "      <th>35</th>\n",
       "      <th>45</th>\n",
       "    </tr>\n",
       "    <tr>\n",
       "      <th>duration of illness in years</th>\n",
       "      <th></th>\n",
       "      <th></th>\n",
       "      <th></th>\n",
       "      <th></th>\n",
       "      <th></th>\n",
       "      <th></th>\n",
       "      <th></th>\n",
       "      <th></th>\n",
       "      <th></th>\n",
       "      <th></th>\n",
       "      <th></th>\n",
       "      <th></th>\n",
       "      <th></th>\n",
       "      <th></th>\n",
       "      <th></th>\n",
       "      <th></th>\n",
       "      <th></th>\n",
       "      <th></th>\n",
       "      <th></th>\n",
       "    </tr>\n",
       "  </thead>\n",
       "  <tbody>\n",
       "    <tr>\n",
       "      <th>01 to 5</th>\n",
       "      <td>6</td>\n",
       "      <td>1</td>\n",
       "      <td>0</td>\n",
       "      <td>2</td>\n",
       "      <td>1</td>\n",
       "      <td>0</td>\n",
       "      <td>1</td>\n",
       "      <td>1</td>\n",
       "      <td>1</td>\n",
       "      <td>1</td>\n",
       "      <td>2</td>\n",
       "      <td>1</td>\n",
       "      <td>0</td>\n",
       "      <td>0</td>\n",
       "      <td>0</td>\n",
       "      <td>1</td>\n",
       "      <td>0</td>\n",
       "      <td>1</td>\n",
       "      <td>1</td>\n",
       "    </tr>\n",
       "    <tr>\n",
       "      <th>05 to 10</th>\n",
       "      <td>1</td>\n",
       "      <td>0</td>\n",
       "      <td>1</td>\n",
       "      <td>2</td>\n",
       "      <td>0</td>\n",
       "      <td>1</td>\n",
       "      <td>0</td>\n",
       "      <td>0</td>\n",
       "      <td>1</td>\n",
       "      <td>0</td>\n",
       "      <td>0</td>\n",
       "      <td>0</td>\n",
       "      <td>0</td>\n",
       "      <td>0</td>\n",
       "      <td>1</td>\n",
       "      <td>0</td>\n",
       "      <td>0</td>\n",
       "      <td>0</td>\n",
       "      <td>0</td>\n",
       "    </tr>\n",
       "    <tr>\n",
       "      <th>10 to 15</th>\n",
       "      <td>1</td>\n",
       "      <td>0</td>\n",
       "      <td>2</td>\n",
       "      <td>0</td>\n",
       "      <td>0</td>\n",
       "      <td>0</td>\n",
       "      <td>0</td>\n",
       "      <td>1</td>\n",
       "      <td>2</td>\n",
       "      <td>0</td>\n",
       "      <td>0</td>\n",
       "      <td>0</td>\n",
       "      <td>0</td>\n",
       "      <td>0</td>\n",
       "      <td>0</td>\n",
       "      <td>0</td>\n",
       "      <td>1</td>\n",
       "      <td>0</td>\n",
       "      <td>0</td>\n",
       "    </tr>\n",
       "    <tr>\n",
       "      <th>15 to 20</th>\n",
       "      <td>2</td>\n",
       "      <td>0</td>\n",
       "      <td>0</td>\n",
       "      <td>0</td>\n",
       "      <td>0</td>\n",
       "      <td>0</td>\n",
       "      <td>0</td>\n",
       "      <td>2</td>\n",
       "      <td>0</td>\n",
       "      <td>0</td>\n",
       "      <td>0</td>\n",
       "      <td>0</td>\n",
       "      <td>2</td>\n",
       "      <td>0</td>\n",
       "      <td>0</td>\n",
       "      <td>0</td>\n",
       "      <td>0</td>\n",
       "      <td>0</td>\n",
       "      <td>0</td>\n",
       "    </tr>\n",
       "    <tr>\n",
       "      <th>20 to 25</th>\n",
       "      <td>0</td>\n",
       "      <td>0</td>\n",
       "      <td>0</td>\n",
       "      <td>0</td>\n",
       "      <td>0</td>\n",
       "      <td>1</td>\n",
       "      <td>0</td>\n",
       "      <td>0</td>\n",
       "      <td>0</td>\n",
       "      <td>0</td>\n",
       "      <td>0</td>\n",
       "      <td>0</td>\n",
       "      <td>0</td>\n",
       "      <td>0</td>\n",
       "      <td>0</td>\n",
       "      <td>0</td>\n",
       "      <td>0</td>\n",
       "      <td>0</td>\n",
       "      <td>0</td>\n",
       "    </tr>\n",
       "  </tbody>\n",
       "</table>\n",
       "</div>"
      ],
      "text/plain": [
       "BFNE Score                    12  13  14  15  16  17  18  19  20  23  24  25  \\\n",
       "duration of illness in years                                                   \n",
       "01 to 5                        6   1   0   2   1   0   1   1   1   1   2   1   \n",
       "05 to 10                       1   0   1   2   0   1   0   0   1   0   0   0   \n",
       "10 to 15                       1   0   2   0   0   0   0   1   2   0   0   0   \n",
       "15 to 20                       2   0   0   0   0   0   0   2   0   0   0   0   \n",
       "20 to 25                       0   0   0   0   0   1   0   0   0   0   0   0   \n",
       "\n",
       "BFNE Score                    27  28  29  30  32  35  45  \n",
       "duration of illness in years                              \n",
       "01 to 5                        0   0   0   1   0   1   1  \n",
       "05 to 10                       0   0   1   0   0   0   0  \n",
       "10 to 15                       0   0   0   0   1   0   0  \n",
       "15 to 20                       2   0   0   0   0   0   0  \n",
       "20 to 25                       0   0   0   0   0   0   0  "
      ]
     },
     "execution_count": 48,
     "metadata": {},
     "output_type": "execute_result"
    }
   ],
   "source": [
    "d1.head()"
   ]
  },
  {
   "cell_type": "code",
   "execution_count": 50,
   "metadata": {},
   "outputs": [
    {
     "name": "stdout",
     "output_type": "stream",
     "text": [
      "+---------------------+--------------+-----------------+-----------------+---------+--------+\n",
      "|       Variable      | Total(n=50)  | SZ + SAD*(n=11) | SZ – SAD*(n=39) | P-value | T-test |\n",
      "+---------------------+--------------+-----------------+-----------------+---------+--------+\n",
      "|         AGE         | 37.22 ±10.06 |   38.72 ±10.72  |   36.79 ±9.98   |  0.651  |  0.46  |\n",
      "| Duration of illness |  8.73 ±8.96  |   5.018 ±5.70   |    9.78 ±9.48   |  0.056  |  2.15  |\n",
      "|      BFNE Score     | 19.18 ±7.43  |   30.72 ±5.44   |   15.92 ±3.75   |  0.000  |  7.03  |\n",
      "|     PANSS score     | 71.42 ±22.42 |   82.72 ±31.17  |   68.23 ±18.57  |  0.256  |  1.20  |\n",
      "|       P score       | 18.20 ±6.22  |   19.09 ±8.43   |   17.94 ±5.55   |  0.733  |  0.35  |\n",
      "|       N score       | 18.52 ±9.37  |   21.45 ±10.07  |   17.69 ±9.13   |  0.356  |  0.96  |\n",
      "|       G score       | 34.72 ±11.57 |   42.18 ±17.07  |   32.61 ±8.68   |  0.177  |  1.44  |\n",
      "|      CGI score      |  4.50 ±1.01  |    4.81 ±1.07   |    4.41 ±0.99   |  0.351  |  0.97  |\n",
      "+---------------------+--------------+-----------------+-----------------+---------+--------+\n"
     ]
    }
   ],
   "source": [
    "from prettytable import PrettyTable\n",
    "    \n",
    "x = PrettyTable()\n",
    "\n",
    "x.field_names = ['Variable','Total(n=50)','SZ + SAD*(n=11)','SZ – SAD*(n=39)','P-value','T-test']\n",
    "\n",
    "x.add_row([\"AGE\", '37.22 ±10.06', '38.72 ±10.72', '36.79 ±9.98','0.651','0.46'])\n",
    "x.add_row([\"Duration of illness\", '8.73 ±8.96', '5.018 ±5.70', '9.78 ±9.48','0.056','2.15'])\n",
    "x.add_row([\"BFNE Score\", '19.18 ±7.43', '30.72 ±5.44', '15.92 ±3.75','0.000','7.03'])\n",
    "x.add_row([\"PANSS score\", '71.42 ±22.42', '82.72 ±31.17', '68.23 ±18.57','0.256','1.20'])\n",
    "x.add_row([\"P score\", '18.20 ±6.22', '19.09 ±8.43', '17.94 ±5.55','0.733','0.35'])\n",
    "x.add_row([\"N score\", '18.52 ±9.37', '21.45 ±10.07', '17.69 ±9.13','0.356','0.96'])\n",
    "x.add_row([\"G score\", '34.72 ±11.57', '42.18 ±17.07', '32.61 ±8.68','0.177','1.44'])\n",
    "x.add_row([\"CGI score\", '4.50 ±1.01', '4.81 ±1.07', '4.41 ±0.99','0.351','0.97'])\n",
    "print(x)"
   ]
  },
  {
   "cell_type": "code",
   "execution_count": 51,
   "metadata": {},
   "outputs": [],
   "source": [
    "from scipy.stats import ttest_1samp"
   ]
  },
  {
   "cell_type": "code",
   "execution_count": 56,
   "metadata": {},
   "outputs": [
    {
     "data": {
      "text/plain": [
       "Ttest_1sampResult(statistic=0.46612772426366267, pvalue=0.6511119391016256)"
      ]
     },
     "execution_count": 56,
     "metadata": {},
     "output_type": "execute_result"
    }
   ],
   "source": [
    "ttest_1samp(d1['AGE'],data['AGE'].mean(), axis=0)"
   ]
  },
  {
   "cell_type": "code",
   "execution_count": 57,
   "metadata": {},
   "outputs": [
    {
     "data": {
      "text/plain": [
       "Ttest_1sampResult(statistic=-2.159986536034732, pvalue=0.056110811121110535)"
      ]
     },
     "execution_count": 57,
     "metadata": {},
     "output_type": "execute_result"
    }
   ],
   "source": [
    "ttest_1samp(d1['Duration of illness'],data['Duration of illness'].mean(), axis=0)"
   ]
  },
  {
   "cell_type": "code",
   "execution_count": 58,
   "metadata": {},
   "outputs": [
    {
     "data": {
      "text/plain": [
       "Ttest_1sampResult(statistic=7.037146112904338, pvalue=3.553091473349097e-05)"
      ]
     },
     "execution_count": 58,
     "metadata": {},
     "output_type": "execute_result"
    }
   ],
   "source": [
    "ttest_1samp(d1['BFNE Score'],data['BFNE Score'].mean(), axis=0)"
   ]
  },
  {
   "cell_type": "code",
   "execution_count": 59,
   "metadata": {},
   "outputs": [
    {
     "data": {
      "text/plain": [
       "Ttest_1sampResult(statistic=1.2029891209276, pvalue=0.25668827014116047)"
      ]
     },
     "execution_count": 59,
     "metadata": {},
     "output_type": "execute_result"
    }
   ],
   "source": [
    "ttest_1samp(d1['PANSS score'],data['PANSS score'].mean(), axis=0)"
   ]
  },
  {
   "cell_type": "code",
   "execution_count": 60,
   "metadata": {},
   "outputs": [
    {
     "data": {
      "text/plain": [
       "Ttest_1sampResult(statistic=0.35044728452755414, pvalue=0.7332727395187177)"
      ]
     },
     "execution_count": 60,
     "metadata": {},
     "output_type": "execute_result"
    }
   ],
   "source": [
    "ttest_1samp(d1['P score'],data['P score'].mean(), axis=0)"
   ]
  },
  {
   "cell_type": "code",
   "execution_count": 61,
   "metadata": {},
   "outputs": [
    {
     "data": {
      "text/plain": [
       "Ttest_1sampResult(statistic=0.9661899526219321, pvalue=0.3567340535449962)"
      ]
     },
     "execution_count": 61,
     "metadata": {},
     "output_type": "execute_result"
    }
   ],
   "source": [
    "ttest_1samp(d1['N score'],data['N score'].mean(), axis=0)"
   ]
  },
  {
   "cell_type": "code",
   "execution_count": 62,
   "metadata": {},
   "outputs": [
    {
     "data": {
      "text/plain": [
       "Ttest_1sampResult(statistic=1.4493535084364546, pvalue=0.17786375958797307)"
      ]
     },
     "execution_count": 62,
     "metadata": {},
     "output_type": "execute_result"
    }
   ],
   "source": [
    "ttest_1samp(d1['G score'],data['G score'].mean(), axis=0)"
   ]
  },
  {
   "cell_type": "code",
   "execution_count": 63,
   "metadata": {},
   "outputs": [
    {
     "data": {
      "text/plain": [
       "Ttest_1sampResult(statistic=0.9782797401561587, pvalue=0.3510089893655409)"
      ]
     },
     "execution_count": 63,
     "metadata": {},
     "output_type": "execute_result"
    }
   ],
   "source": [
    "ttest_1samp(d1['CGI Score'],data['CGI Score'].mean(), axis=0)"
   ]
  },
  {
   "cell_type": "code",
   "execution_count": 64,
   "metadata": {},
   "outputs": [
    {
     "name": "stdout",
     "output_type": "stream",
     "text": [
      "+-----------------------+---------+-----------------+\n",
      "|        Variable       | P-value | Chi-square test |\n",
      "+-----------------------+---------+-----------------+\n",
      "|         Gender        |  0.307  |       8.31      |\n",
      "|        Domicile       |  0.138  |      11.00      |\n",
      "|     Marital status    |  0.322  |       8.11      |\n",
      "|     Qualification     |  0.143  |      27.86      |\n",
      "| Socio economic status |  0.138  |      11.00      |\n",
      "|       Occupation      |  0.154  |       27.5      |\n",
      "+-----------------------+---------+-----------------+\n"
     ]
    }
   ],
   "source": [
    "from prettytable import PrettyTable\n",
    "    \n",
    "x = PrettyTable()\n",
    "\n",
    "x.field_names = ['Variable','P-value','Chi-square test']\n",
    "\n",
    "x.add_row([\"Gender\",'0.307','8.31'])\n",
    "x.add_row([\"Domicile\",'0.138','11.00'])\n",
    "x.add_row([\"Marital status\",'0.322','8.11'])\n",
    "x.add_row([\"Qualification\",'0.143','27.86'])\n",
    "x.add_row([\"Socio economic status\",'0.138','11.00'])\n",
    "x.add_row([\"Occupation\",'0.154','27.5'])\n",
    "\n",
    "print(x)"
   ]
  },
  {
   "cell_type": "code",
   "execution_count": 65,
   "metadata": {},
   "outputs": [
    {
     "data": {
      "text/plain": [
       "(27.5,\n",
       " 0.15490967535171468,\n",
       " 21,\n",
       " array([[0.18181818, 0.36363636, 0.18181818, 0.18181818, 0.54545455,\n",
       "         0.18181818, 0.18181818, 0.18181818],\n",
       "        [0.27272727, 0.54545455, 0.27272727, 0.27272727, 0.81818182,\n",
       "         0.27272727, 0.27272727, 0.27272727],\n",
       "        [0.36363636, 0.72727273, 0.36363636, 0.36363636, 1.09090909,\n",
       "         0.36363636, 0.36363636, 0.36363636],\n",
       "        [0.18181818, 0.36363636, 0.18181818, 0.18181818, 0.54545455,\n",
       "         0.18181818, 0.18181818, 0.18181818]]))"
      ]
     },
     "execution_count": 65,
     "metadata": {},
     "output_type": "execute_result"
    }
   ],
   "source": [
    "b1=pd.crosstab(d1['Occupation'],d1['BFNE Score'])\n",
    "b1\n",
    "from scipy.stats import chi2_contingency\n",
    "chi2_contingency(b1)"
   ]
  },
  {
   "cell_type": "code",
   "execution_count": 66,
   "metadata": {},
   "outputs": [],
   "source": [
    "from scipy.stats import f_oneway"
   ]
  },
  {
   "cell_type": "code",
   "execution_count": 67,
   "metadata": {},
   "outputs": [
    {
     "data": {
      "text/plain": [
       "F    6\n",
       "M    5\n",
       "Name: Gender, dtype: int64"
      ]
     },
     "execution_count": 67,
     "metadata": {},
     "output_type": "execute_result"
    }
   ],
   "source": [
    "d1['Gender'].value_counts()"
   ]
  },
  {
   "cell_type": "code",
   "execution_count": 68,
   "metadata": {},
   "outputs": [
    {
     "data": {
      "text/plain": [
       "F_onewayResult(statistic=1.169009525571072, pvalue=0.3077234695110481)"
      ]
     },
     "execution_count": 68,
     "metadata": {},
     "output_type": "execute_result"
    }
   ],
   "source": [
    "d=d1[['Gender','BFNE Score']]\n",
    "d0=d['BFNE Score'][d['Gender'] == 'F']\n",
    "d2=d['BFNE Score'][d['Gender'] == 'M']\n",
    "f_oneway(d0,d2)"
   ]
  },
  {
   "cell_type": "code",
   "execution_count": 69,
   "metadata": {},
   "outputs": [],
   "source": [
    "a1=data[data['Gender']=='F']\n",
    "a2=data[data['Gender']=='M']"
   ]
  },
  {
   "cell_type": "code",
   "execution_count": 79,
   "metadata": {},
   "outputs": [
    {
     "data": {
      "text/plain": [
       "18.555555555555557"
      ]
     },
     "execution_count": 79,
     "metadata": {},
     "output_type": "execute_result"
    }
   ],
   "source": [
    "a1['BFNE Score'].mean()"
   ]
  },
  {
   "cell_type": "code",
   "execution_count": 80,
   "metadata": {},
   "outputs": [
    {
     "data": {
      "text/plain": [
       "7.450577904505872"
      ]
     },
     "execution_count": 80,
     "metadata": {},
     "output_type": "execute_result"
    }
   ],
   "source": [
    "a1['BFNE Score'].std()"
   ]
  },
  {
   "cell_type": "code",
   "execution_count": 81,
   "metadata": {},
   "outputs": [
    {
     "data": {
      "text/plain": [
       "20.785714285714285"
      ]
     },
     "execution_count": 81,
     "metadata": {},
     "output_type": "execute_result"
    }
   ],
   "source": [
    "a2['BFNE Score'].mean()"
   ]
  },
  {
   "cell_type": "code",
   "execution_count": 82,
   "metadata": {},
   "outputs": [
    {
     "data": {
      "text/plain": [
       "7.433588753639911"
      ]
     },
     "execution_count": 82,
     "metadata": {},
     "output_type": "execute_result"
    }
   ],
   "source": [
    "a2['BFNE Score'].std()"
   ]
  },
  {
   "cell_type": "code",
   "execution_count": 83,
   "metadata": {},
   "outputs": [
    {
     "data": {
      "text/plain": [
       "Rural    6\n",
       "Urban    5\n",
       "Name: Domicile, dtype: int64"
      ]
     },
     "execution_count": 83,
     "metadata": {},
     "output_type": "execute_result"
    }
   ],
   "source": [
    "d1['Domicile'].value_counts()"
   ]
  },
  {
   "cell_type": "code",
   "execution_count": 84,
   "metadata": {},
   "outputs": [
    {
     "data": {
      "text/plain": [
       "F_onewayResult(statistic=1.169009525571072, pvalue=0.3077234695110481)"
      ]
     },
     "execution_count": 84,
     "metadata": {},
     "output_type": "execute_result"
    }
   ],
   "source": [
    "d=d1[['Domicile','BFNE Score']]\n",
    "d0=d['BFNE Score'][d['Domicile'] == 'Rural']\n",
    "d2=d['BFNE Score'][d['Domicile'] == 'Urban']\n",
    "f_oneway(d0,d2)"
   ]
  },
  {
   "cell_type": "code",
   "execution_count": 85,
   "metadata": {},
   "outputs": [],
   "source": [
    "a1=data[data['Domicile']=='Rural']\n",
    "a2=data[data['Domicile']=='Urban']"
   ]
  },
  {
   "cell_type": "code",
   "execution_count": 86,
   "metadata": {},
   "outputs": [
    {
     "data": {
      "text/plain": [
       "18.555555555555557"
      ]
     },
     "execution_count": 86,
     "metadata": {},
     "output_type": "execute_result"
    }
   ],
   "source": [
    "a1['BFNE Score'].mean()"
   ]
  },
  {
   "cell_type": "code",
   "execution_count": 87,
   "metadata": {},
   "outputs": [
    {
     "data": {
      "text/plain": [
       "7.450577904505872"
      ]
     },
     "execution_count": 87,
     "metadata": {},
     "output_type": "execute_result"
    }
   ],
   "source": [
    "a1['BFNE Score'].std()"
   ]
  },
  {
   "cell_type": "code",
   "execution_count": 88,
   "metadata": {},
   "outputs": [
    {
     "data": {
      "text/plain": [
       "20.785714285714285"
      ]
     },
     "execution_count": 88,
     "metadata": {},
     "output_type": "execute_result"
    }
   ],
   "source": [
    "a2['BFNE Score'].mean()"
   ]
  },
  {
   "cell_type": "code",
   "execution_count": 89,
   "metadata": {},
   "outputs": [
    {
     "data": {
      "text/plain": [
       "7.433588753639911"
      ]
     },
     "execution_count": 89,
     "metadata": {},
     "output_type": "execute_result"
    }
   ],
   "source": [
    "a2['BFNE Score'].std()"
   ]
  },
  {
   "cell_type": "code",
   "execution_count": 90,
   "metadata": {},
   "outputs": [
    {
     "data": {
      "text/plain": [
       "Married      7\n",
       "Unmarried    4\n",
       "Name: Marital status, dtype: int64"
      ]
     },
     "execution_count": 90,
     "metadata": {},
     "output_type": "execute_result"
    }
   ],
   "source": [
    "d1['Marital status'].value_counts()"
   ]
  },
  {
   "cell_type": "code",
   "execution_count": 91,
   "metadata": {},
   "outputs": [
    {
     "data": {
      "text/plain": [
       "F_onewayResult(statistic=0.6083700028087257, pvalue=0.45542422016646433)"
      ]
     },
     "execution_count": 91,
     "metadata": {},
     "output_type": "execute_result"
    }
   ],
   "source": [
    "d=d1[['Marital status','BFNE Score']]\n",
    "d0=d['BFNE Score'][d['Marital status'] == 'Married']\n",
    "d2=d['BFNE Score'][d['Marital status'] == 'Unmarried']\n",
    "f_oneway(d0,d2)"
   ]
  },
  {
   "cell_type": "code",
   "execution_count": 92,
   "metadata": {},
   "outputs": [],
   "source": [
    "a1=data[data['Marital status']=='Married']\n",
    "a2=data[data['Marital status']=='Unmarried']"
   ]
  },
  {
   "cell_type": "code",
   "execution_count": 93,
   "metadata": {},
   "outputs": [
    {
     "data": {
      "text/plain": [
       "18.266666666666666"
      ]
     },
     "execution_count": 93,
     "metadata": {},
     "output_type": "execute_result"
    }
   ],
   "source": [
    "a1['BFNE Score'].mean()"
   ]
  },
  {
   "cell_type": "code",
   "execution_count": 94,
   "metadata": {},
   "outputs": [
    {
     "data": {
      "text/plain": [
       "8.561877546802265"
      ]
     },
     "execution_count": 94,
     "metadata": {},
     "output_type": "execute_result"
    }
   ],
   "source": [
    "a1['BFNE Score'].std()"
   ]
  },
  {
   "cell_type": "code",
   "execution_count": 95,
   "metadata": {},
   "outputs": [
    {
     "data": {
      "text/plain": [
       "21.3125"
      ]
     },
     "execution_count": 95,
     "metadata": {},
     "output_type": "execute_result"
    }
   ],
   "source": [
    "a2['BFNE Score'].mean()"
   ]
  },
  {
   "cell_type": "code",
   "execution_count": 96,
   "metadata": {},
   "outputs": [
    {
     "data": {
      "text/plain": [
       "5.570382991021952"
      ]
     },
     "execution_count": 96,
     "metadata": {},
     "output_type": "execute_result"
    }
   ],
   "source": [
    "a2['BFNE Score'].std()"
   ]
  },
  {
   "cell_type": "code",
   "execution_count": 97,
   "metadata": {},
   "outputs": [
    {
     "data": {
      "text/plain": [
       "Secondary     5\n",
       "Illiterate    3\n",
       "Graduated     2\n",
       "Inter         1\n",
       "Name: Qualification, dtype: int64"
      ]
     },
     "execution_count": 97,
     "metadata": {},
     "output_type": "execute_result"
    }
   ],
   "source": [
    "d1['Qualification'].value_counts()"
   ]
  },
  {
   "cell_type": "code",
   "execution_count": 98,
   "metadata": {},
   "outputs": [
    {
     "data": {
      "text/plain": [
       "F_onewayResult(statistic=1.8098975365162415, pvalue=0.23307666449215472)"
      ]
     },
     "execution_count": 98,
     "metadata": {},
     "output_type": "execute_result"
    }
   ],
   "source": [
    "d=d1[['Qualification','BFNE Score']]\n",
    "d0=d['BFNE Score'][d['Qualification'] == 'Secondary']\n",
    "d2=d['BFNE Score'][d['Qualification'] == 'Illiterate']\n",
    "d3=d['BFNE Score'][d['Qualification'] == 'Graduated']\n",
    "d4=d['BFNE Score'][d['Qualification'] == 'Inter']\n",
    "f_oneway(d0,d2,d3,d4)"
   ]
  },
  {
   "cell_type": "code",
   "execution_count": 99,
   "metadata": {},
   "outputs": [],
   "source": [
    "d1['Qualification']=d1['Qualification'].replace('Inter','Secondary')"
   ]
  },
  {
   "cell_type": "code",
   "execution_count": 100,
   "metadata": {},
   "outputs": [],
   "source": [
    "a1=d1[d1['Qualification']=='Secondary']\n",
    "a2=data[data['Qualification']=='Illiterate']\n",
    "a3=data[data['Qualification']=='Graduated']\n"
   ]
  },
  {
   "cell_type": "code",
   "execution_count": 101,
   "metadata": {},
   "outputs": [
    {
     "data": {
      "text/plain": [
       "28.0"
      ]
     },
     "execution_count": 101,
     "metadata": {},
     "output_type": "execute_result"
    }
   ],
   "source": [
    "a1['BFNE Score'].mean()"
   ]
  },
  {
   "cell_type": "code",
   "execution_count": 102,
   "metadata": {},
   "outputs": [
    {
     "data": {
      "text/plain": [
       "2.0"
      ]
     },
     "execution_count": 102,
     "metadata": {},
     "output_type": "execute_result"
    }
   ],
   "source": [
    "a1['BFNE Score'].std()"
   ]
  },
  {
   "cell_type": "code",
   "execution_count": 103,
   "metadata": {},
   "outputs": [
    {
     "data": {
      "text/plain": [
       "Low       7\n",
       "Middle    4\n",
       "Name: Socio economic status, dtype: int64"
      ]
     },
     "execution_count": 103,
     "metadata": {},
     "output_type": "execute_result"
    }
   ],
   "source": [
    "d1['Socio economic status'].value_counts()"
   ]
  },
  {
   "cell_type": "code",
   "execution_count": 104,
   "metadata": {},
   "outputs": [
    {
     "data": {
      "text/plain": [
       "F_onewayResult(statistic=0.009876651595627936, pvalue=0.923013925863462)"
      ]
     },
     "execution_count": 104,
     "metadata": {},
     "output_type": "execute_result"
    }
   ],
   "source": [
    "d=d1[['Socio economic status','BFNE Score']]\n",
    "d0=d['BFNE Score'][d['Socio economic status'] == 'Low']\n",
    "d2=d['BFNE Score'][d['Socio economic status'] == 'Middle']\n",
    "f_oneway(d0,d2)"
   ]
  },
  {
   "cell_type": "code",
   "execution_count": 105,
   "metadata": {},
   "outputs": [],
   "source": [
    "a1=data[data['Socio economic status']=='Low']\n",
    "a2=data[data['Socio economic status']=='Middle']"
   ]
  },
  {
   "cell_type": "code",
   "execution_count": 106,
   "metadata": {},
   "outputs": [
    {
     "data": {
      "text/plain": [
       "26.0"
      ]
     },
     "execution_count": 106,
     "metadata": {},
     "output_type": "execute_result"
    }
   ],
   "source": [
    "a2['BFNE Score'].mean()"
   ]
  },
  {
   "cell_type": "code",
   "execution_count": 107,
   "metadata": {},
   "outputs": [
    {
     "data": {
      "text/plain": [
       "5.916079783099616"
      ]
     },
     "execution_count": 107,
     "metadata": {},
     "output_type": "execute_result"
    }
   ],
   "source": [
    "a2['BFNE Score'].std()"
   ]
  },
  {
   "cell_type": "code",
   "execution_count": 108,
   "metadata": {},
   "outputs": [
    {
     "data": {
      "text/plain": [
       "Unemployed    4\n",
       "House wife    3\n",
       "Farmer        2\n",
       "Vendor        2\n",
       "Name: Occupation, dtype: int64"
      ]
     },
     "execution_count": 108,
     "metadata": {},
     "output_type": "execute_result"
    }
   ],
   "source": [
    "d1['Occupation'].value_counts()"
   ]
  },
  {
   "cell_type": "code",
   "execution_count": 109,
   "metadata": {},
   "outputs": [
    {
     "data": {
      "text/plain": [
       "F_onewayResult(statistic=0.25987833304906477, pvalue=0.8521902572467104)"
      ]
     },
     "execution_count": 109,
     "metadata": {},
     "output_type": "execute_result"
    }
   ],
   "source": [
    "d=d1[['Occupation','BFNE Score']]\n",
    "d0=d['BFNE Score'][d['Occupation'] == 'Unemployed']\n",
    "d2=d['BFNE Score'][d['Occupation'] == 'House wife']\n",
    "d3=d['BFNE Score'][d['Occupation'] == 'Farmer']\n",
    "d4=d['BFNE Score'][d['Occupation'] == 'Vendor']\n",
    "f_oneway(d0,d2,d3,d4)"
   ]
  },
  {
   "cell_type": "code",
   "execution_count": 110,
   "metadata": {},
   "outputs": [],
   "source": [
    "a1=data[data['Occupation']=='Unemployed']\n",
    "a2=d1[d1['Occupation']!='Unemployed']\n"
   ]
  },
  {
   "cell_type": "code",
   "execution_count": 111,
   "metadata": {},
   "outputs": [
    {
     "data": {
      "text/plain": [
       "31.714285714285715"
      ]
     },
     "execution_count": 111,
     "metadata": {},
     "output_type": "execute_result"
    }
   ],
   "source": [
    "a2['BFNE Score'].mean()"
   ]
  },
  {
   "cell_type": "code",
   "execution_count": 112,
   "metadata": {},
   "outputs": [
    {
     "data": {
      "text/plain": [
       "6.473388749701496"
      ]
     },
     "execution_count": 112,
     "metadata": {},
     "output_type": "execute_result"
    }
   ],
   "source": [
    "a2['BFNE Score'].std()"
   ]
  },
  {
   "cell_type": "code",
   "execution_count": 113,
   "metadata": {},
   "outputs": [
    {
     "name": "stdout",
     "output_type": "stream",
     "text": [
      "+-----------------------+------------+-------------+-----------------+-------------+---------------+\n",
      "|        variable       |  category  | Total(n=50) | Mean & SD-Total | Total(n=11) | Mean & SD-SAD |\n",
      "+-----------------------+------------+-------------+-----------------+-------------+---------------+\n",
      "|         Gender        |   Female   |   26(52%)   |   20.65 ±8.03   |  6(54.54%)  |  32.33 ±6.86  |\n",
      "|         Gender        |    Male    |   24(48%)   |   17.58 ±6.52   |  5(45.45%)  |  28.80 ±2.58  |\n",
      "|        Domicile       |   Rural    |   36(72%)   |   18.55 ±7.45   |  6(54.54%)  |  32.33 ±6.86  |\n",
      "|        Domicile       |   Urban    |   14(28%)   |   20.78 ±7.43   |  5(45.45%)  |  28.80 ±2.58  |\n",
      "|     Marital Status    |  Married   |   30(60%)   |   18.26 ±8.56   |  7(63.63%)  |  31.71 ±6.47  |\n",
      "|     Marital Status    | Unmarried  |   20(40%)   |   21.31 ±5.57   |  4(36.36%)  |  29.00 ±2.94  |\n",
      "|     Qualification     | Secondary  |   25(50%)   |   20.08 ±5.93   |  6(54.54%)  |  28.00 ±2.00  |\n",
      "|     Qualification     | Illiterate |   17(34%)   |   18.05 ±9.50   |  3(27.27%)  |  36.00 ±8.54  |\n",
      "|     Qualification     | Graduated  |    8(16%)   |   19.50 ±7.87   |  2(18.18%)  |  31.00 ±1.41  |\n",
      "| Socio economic status |    Low     |   43(86%)   |   18.06 ±7.10   |  7(63.63%)  |  30.85 ±6.98  |\n",
      "| Socio economic status |   Middle   |    7(14%)   |   26.00 ±5.91   |  4(36.36%)  |  30.50 ±1.00  |\n",
      "|       Occupation      | Unemployed |   23(46%)   |   17.90 ±6.03   |  4(36.36%)  |  29.00 ±2.94  |\n",
      "|       Occupation      | Unskilled  |   27(54%)   |   20.17 ±8.35   |  7(63.63%)  |  31.71 ±6.47  |\n",
      "+-----------------------+------------+-------------+-----------------+-------------+---------------+\n"
     ]
    }
   ],
   "source": [
    "x = PrettyTable()\n",
    "\n",
    "x.field_names = ['variable','category','Total(n=50)','Mean & SD-Total','Total(n=11)','Mean & SD-SAD']\n",
    "\n",
    "x.add_row(['Gender',\"Female\",'26(52%)','20.65 ±8.03','6(54.54%)', '32.33 ±6.86'])\n",
    "x.add_row(['Gender',\"Male\", '24(48%)','17.58 ±6.52','5(45.45%)','28.80 ±2.58'])\n",
    "x.add_row(['Domicile',\"Rural\",'36(72%)','18.55 ±7.45','6(54.54%)', '32.33 ±6.86'])\n",
    "x.add_row(['Domicile',\"Urban\",'14(28%)','20.78 ±7.43','5(45.45%)', '28.80 ±2.58'])\n",
    "x.add_row(['Marital Status',\"Married\",'30(60%)','18.26 ±8.56','7(63.63%)', '31.71 ±6.47'])\n",
    "x.add_row(['Marital Status',\"Unmarried\",'20(40%)','21.31 ±5.57','4(36.36%)', '29.00 ±2.94'])\n",
    "x.add_row(['Qualification',\"Secondary\",'25(50%)','20.08 ±5.93', '6(54.54%)','28.00 ±2.00'])\n",
    "x.add_row(['Qualification',\"Illiterate\",'17(34%)','18.05 ±9.50','3(27.27%)', '36.00 ±8.54'])\n",
    "x.add_row(['Qualification',\"Graduated\", '8(16%)','19.50 ±7.87','2(18.18%)','31.00 ±1.41'])\n",
    "x.add_row(['Socio economic status',\"Low\",'43(86%)','18.06 ±7.10','7(63.63%)', '30.85 ±6.98'])\n",
    "x.add_row(['Socio economic status',\"Middle\",'7(14%)','26.00 ±5.91','4(36.36%)', '30.50 ±1.00'])\n",
    "x.add_row(['Occupation',\"Unemployed\",'23(46%)','17.90 ±6.03','4(36.36%)', '29.00 ±2.94'])\n",
    "x.add_row(['Occupation',\"Unskilled\",'27(54%)','20.17 ±8.35','7(63.63%)', '31.71 ±6.47'])\n",
    "\n",
    "print(x)"
   ]
  },
  {
   "cell_type": "code",
   "execution_count": null,
   "metadata": {},
   "outputs": [],
   "source": []
  }
 ],
 "metadata": {
  "kernelspec": {
   "display_name": "Python 3",
   "language": "python",
   "name": "python3"
  },
  "language_info": {
   "codemirror_mode": {
    "name": "ipython",
    "version": 3
   },
   "file_extension": ".py",
   "mimetype": "text/x-python",
   "name": "python",
   "nbconvert_exporter": "python",
   "pygments_lexer": "ipython3",
   "version": "3.7.3"
  }
 },
 "nbformat": 4,
 "nbformat_minor": 2
}
